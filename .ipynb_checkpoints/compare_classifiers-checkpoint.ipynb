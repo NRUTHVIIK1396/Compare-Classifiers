{
 "cells": [
  {
   "cell_type": "markdown",
   "metadata": {
    "id": "-6_XiYMKmlaW"
   },
   "source": [
    "# Practical Application III: Comparing Classifiers\n",
    "\n",
    "**Overview**: In this practical application, your goal is to compare the performance of the classifiers we encountered in this section, namely K Nearest Neighbor, Logistic Regression, Decision Trees, and Support Vector Machines.  We will utilize a dataset related to marketing bank products over the telephone.  \n",
    "\n"
   ]
  },
  {
   "cell_type": "markdown",
   "metadata": {
    "id": "noWHe1JlsZT2"
   },
   "source": [
    "### Import Packages"
   ]
  },
  {
   "cell_type": "code",
   "execution_count": null,
   "metadata": {
    "id": "ZVDZw_HinJ6A"
   },
   "outputs": [],
   "source": [
    "import pandas as pd\n",
    "import numpy as np\n",
    "import matplotlib.pyplot as plt\n",
    "import seaborn as sns\n",
    "import time\n",
    "from sklearn.compose import make_column_transformer\n",
    "from sklearn.preprocessing import StandardScaler, OneHotEncoder\n",
    "from sklearn.model_selection import train_test_split, GridSearchCV\n",
    "from sklearn.metrics import confusion_matrix\n",
    "from sklearn.svm import SVC\n",
    "from sklearn.linear_model import LogisticRegression\n",
    "from sklearn.neighbors import KNeighborsClassifier\n",
    "from sklearn.tree import DecisionTreeClassifier\n",
    "from sklearn.pipeline import Pipeline\n",
    "from sklearn.metrics import accuracy_score, precision_score, recall_score, f1_score, roc_auc_score, classification_report,roc_curve\n",
    "\n",
    "import warnings\n",
    "warnings.filterwarnings(\"ignore\")"
   ]
  },
  {
   "cell_type": "markdown",
   "metadata": {
    "id": "hDk7_Kqumlak"
   },
   "source": [
    "### Getting Started\n",
    "\n",
    "Our dataset comes from the UCI Machine Learning repository [link](https://archive.ics.uci.edu/ml/datasets/bank+marketing).  The data is from a Portugese banking institution and is a collection of the results of multiple marketing campaigns.  We will make use of the article accompanying the dataset [here](CRISP-DM-BANK.pdf) for more information on the data and features.\n",
    "\n"
   ]
  },
  {
   "cell_type": "markdown",
   "metadata": {
    "id": "_U0oY_ZAmlao"
   },
   "source": [
    "### Problem 1: Understanding the Data\n",
    "\n",
    "To gain a better understanding of the data, please read the information provided in the UCI link above, and examine the **Materials and Methods** section of the paper.  How many marketing campaigns does this data represent?"
   ]
  },
  {
   "cell_type": "code",
   "execution_count": 2,
   "metadata": {
    "colab": {
     "base_uri": "https://localhost:8080/"
    },
    "id": "o2rXoSXZmlar",
    "outputId": "5e124d22-473d-4ef8-b79a-94604c684ff1"
   },
   "outputs": [
    {
     "name": "stdout",
     "output_type": "stream",
     "text": [
      "The data represents total 17 marketing campaigns.\n"
     ]
    }
   ],
   "source": [
    "print(\"The data represents total 17 marketing campaigns.\")"
   ]
  },
  {
   "cell_type": "markdown",
   "metadata": {
    "id": "SY1NshB2mlat"
   },
   "source": [
    "### Problem 2: Read in the Data\n",
    "\n",
    "Use pandas to read in the dataset `bank-additional-full.csv` and assign to a meaningful variable name."
   ]
  },
  {
   "cell_type": "code",
   "execution_count": 4,
   "metadata": {
    "id": "OZ8w0kPqmla0"
   },
   "outputs": [],
   "source": [
    "# read data #\n",
    "bank_df = pd.read_csv('data/bank-additional-full.csv', sep = ';')"
   ]
  },
  {
   "cell_type": "code",
   "execution_count": 5,
   "metadata": {
    "colab": {
     "base_uri": "https://localhost:8080/",
     "height": 235
    },
    "id": "wCCULny6mla4",
    "outputId": "27a0b429-b9d4-4a8d-a6f3-98ed413e51b1"
   },
   "outputs": [
    {
     "data": {
      "text/html": [
       "<div>\n",
       "<style scoped>\n",
       "    .dataframe tbody tr th:only-of-type {\n",
       "        vertical-align: middle;\n",
       "    }\n",
       "\n",
       "    .dataframe tbody tr th {\n",
       "        vertical-align: top;\n",
       "    }\n",
       "\n",
       "    .dataframe thead th {\n",
       "        text-align: right;\n",
       "    }\n",
       "</style>\n",
       "<table border=\"1\" class=\"dataframe\">\n",
       "  <thead>\n",
       "    <tr style=\"text-align: right;\">\n",
       "      <th></th>\n",
       "      <th>age</th>\n",
       "      <th>job</th>\n",
       "      <th>marital</th>\n",
       "      <th>education</th>\n",
       "      <th>default</th>\n",
       "      <th>housing</th>\n",
       "      <th>loan</th>\n",
       "      <th>contact</th>\n",
       "      <th>month</th>\n",
       "      <th>day_of_week</th>\n",
       "      <th>...</th>\n",
       "      <th>campaign</th>\n",
       "      <th>pdays</th>\n",
       "      <th>previous</th>\n",
       "      <th>poutcome</th>\n",
       "      <th>emp.var.rate</th>\n",
       "      <th>cons.price.idx</th>\n",
       "      <th>cons.conf.idx</th>\n",
       "      <th>euribor3m</th>\n",
       "      <th>nr.employed</th>\n",
       "      <th>y</th>\n",
       "    </tr>\n",
       "  </thead>\n",
       "  <tbody>\n",
       "    <tr>\n",
       "      <th>0</th>\n",
       "      <td>56</td>\n",
       "      <td>housemaid</td>\n",
       "      <td>married</td>\n",
       "      <td>basic.4y</td>\n",
       "      <td>no</td>\n",
       "      <td>no</td>\n",
       "      <td>no</td>\n",
       "      <td>telephone</td>\n",
       "      <td>may</td>\n",
       "      <td>mon</td>\n",
       "      <td>...</td>\n",
       "      <td>1</td>\n",
       "      <td>999</td>\n",
       "      <td>0</td>\n",
       "      <td>nonexistent</td>\n",
       "      <td>1.1</td>\n",
       "      <td>93.994</td>\n",
       "      <td>-36.4</td>\n",
       "      <td>4.857</td>\n",
       "      <td>5191.0</td>\n",
       "      <td>no</td>\n",
       "    </tr>\n",
       "    <tr>\n",
       "      <th>1</th>\n",
       "      <td>57</td>\n",
       "      <td>services</td>\n",
       "      <td>married</td>\n",
       "      <td>high.school</td>\n",
       "      <td>unknown</td>\n",
       "      <td>no</td>\n",
       "      <td>no</td>\n",
       "      <td>telephone</td>\n",
       "      <td>may</td>\n",
       "      <td>mon</td>\n",
       "      <td>...</td>\n",
       "      <td>1</td>\n",
       "      <td>999</td>\n",
       "      <td>0</td>\n",
       "      <td>nonexistent</td>\n",
       "      <td>1.1</td>\n",
       "      <td>93.994</td>\n",
       "      <td>-36.4</td>\n",
       "      <td>4.857</td>\n",
       "      <td>5191.0</td>\n",
       "      <td>no</td>\n",
       "    </tr>\n",
       "    <tr>\n",
       "      <th>2</th>\n",
       "      <td>37</td>\n",
       "      <td>services</td>\n",
       "      <td>married</td>\n",
       "      <td>high.school</td>\n",
       "      <td>no</td>\n",
       "      <td>yes</td>\n",
       "      <td>no</td>\n",
       "      <td>telephone</td>\n",
       "      <td>may</td>\n",
       "      <td>mon</td>\n",
       "      <td>...</td>\n",
       "      <td>1</td>\n",
       "      <td>999</td>\n",
       "      <td>0</td>\n",
       "      <td>nonexistent</td>\n",
       "      <td>1.1</td>\n",
       "      <td>93.994</td>\n",
       "      <td>-36.4</td>\n",
       "      <td>4.857</td>\n",
       "      <td>5191.0</td>\n",
       "      <td>no</td>\n",
       "    </tr>\n",
       "    <tr>\n",
       "      <th>3</th>\n",
       "      <td>40</td>\n",
       "      <td>admin.</td>\n",
       "      <td>married</td>\n",
       "      <td>basic.6y</td>\n",
       "      <td>no</td>\n",
       "      <td>no</td>\n",
       "      <td>no</td>\n",
       "      <td>telephone</td>\n",
       "      <td>may</td>\n",
       "      <td>mon</td>\n",
       "      <td>...</td>\n",
       "      <td>1</td>\n",
       "      <td>999</td>\n",
       "      <td>0</td>\n",
       "      <td>nonexistent</td>\n",
       "      <td>1.1</td>\n",
       "      <td>93.994</td>\n",
       "      <td>-36.4</td>\n",
       "      <td>4.857</td>\n",
       "      <td>5191.0</td>\n",
       "      <td>no</td>\n",
       "    </tr>\n",
       "    <tr>\n",
       "      <th>4</th>\n",
       "      <td>56</td>\n",
       "      <td>services</td>\n",
       "      <td>married</td>\n",
       "      <td>high.school</td>\n",
       "      <td>no</td>\n",
       "      <td>no</td>\n",
       "      <td>yes</td>\n",
       "      <td>telephone</td>\n",
       "      <td>may</td>\n",
       "      <td>mon</td>\n",
       "      <td>...</td>\n",
       "      <td>1</td>\n",
       "      <td>999</td>\n",
       "      <td>0</td>\n",
       "      <td>nonexistent</td>\n",
       "      <td>1.1</td>\n",
       "      <td>93.994</td>\n",
       "      <td>-36.4</td>\n",
       "      <td>4.857</td>\n",
       "      <td>5191.0</td>\n",
       "      <td>no</td>\n",
       "    </tr>\n",
       "  </tbody>\n",
       "</table>\n",
       "<p>5 rows × 21 columns</p>\n",
       "</div>"
      ],
      "text/plain": [
       "   age        job  marital    education  default housing loan    contact  \\\n",
       "0   56  housemaid  married     basic.4y       no      no   no  telephone   \n",
       "1   57   services  married  high.school  unknown      no   no  telephone   \n",
       "2   37   services  married  high.school       no     yes   no  telephone   \n",
       "3   40     admin.  married     basic.6y       no      no   no  telephone   \n",
       "4   56   services  married  high.school       no      no  yes  telephone   \n",
       "\n",
       "  month day_of_week  ...  campaign  pdays  previous     poutcome emp.var.rate  \\\n",
       "0   may         mon  ...         1    999         0  nonexistent          1.1   \n",
       "1   may         mon  ...         1    999         0  nonexistent          1.1   \n",
       "2   may         mon  ...         1    999         0  nonexistent          1.1   \n",
       "3   may         mon  ...         1    999         0  nonexistent          1.1   \n",
       "4   may         mon  ...         1    999         0  nonexistent          1.1   \n",
       "\n",
       "   cons.price.idx  cons.conf.idx  euribor3m  nr.employed   y  \n",
       "0          93.994          -36.4      4.857       5191.0  no  \n",
       "1          93.994          -36.4      4.857       5191.0  no  \n",
       "2          93.994          -36.4      4.857       5191.0  no  \n",
       "3          93.994          -36.4      4.857       5191.0  no  \n",
       "4          93.994          -36.4      4.857       5191.0  no  \n",
       "\n",
       "[5 rows x 21 columns]"
      ]
     },
     "execution_count": 5,
     "metadata": {},
     "output_type": "execute_result"
    }
   ],
   "source": [
    "# display top rows #\n",
    "bank_df.head()"
   ]
  },
  {
   "cell_type": "markdown",
   "metadata": {
    "id": "qgwzHbk1mla9"
   },
   "source": [
    "### Problem 3: Understanding the Features\n",
    "\n",
    "\n",
    "Examine the data description below, and determine if any of the features are missing values or need to be coerced to a different data type.\n",
    "\n",
    "\n",
    "```\n",
    "Input variables:\n",
    "# bank client data:\n",
    "1 - age (numeric)\n",
    "2 - job : type of job (categorical: 'admin.','blue-collar','entrepreneur','housemaid','management','retired','self-employed','services','student','technician','unemployed','unknown')\n",
    "3 - marital : marital status (categorical: 'divorced','married','single','unknown'; note: 'divorced' means divorced or widowed)\n",
    "4 - education (categorical: 'basic.4y','basic.6y','basic.9y','high.school','illiterate','professional.course','university.degree','unknown')\n",
    "5 - default: has credit in default? (categorical: 'no','yes','unknown')\n",
    "6 - housing: has housing loan? (categorical: 'no','yes','unknown')\n",
    "7 - loan: has personal loan? (categorical: 'no','yes','unknown')\n",
    "# related with the last contact of the current campaign:\n",
    "8 - contact: contact communication type (categorical: 'cellular','telephone')\n",
    "9 - month: last contact month of year (categorical: 'jan', 'feb', 'mar', ..., 'nov', 'dec')\n",
    "10 - day_of_week: last contact day of the week (categorical: 'mon','tue','wed','thu','fri')\n",
    "11 - duration: last contact duration, in seconds (numeric). Important note: this attribute highly affects the output target (e.g., if duration=0 then y='no'). Yet, the duration is not known before a call is performed. Also, after the end of the call y is obviously known. Thus, this input should only be included for benchmark purposes and should be discarded if the intention is to have a realistic predictive model.\n",
    "# other attributes:\n",
    "12 - campaign: number of contacts performed during this campaign and for this client (numeric, includes last contact)\n",
    "13 - pdays: number of days that passed by after the client was last contacted from a previous campaign (numeric; 999 means client was not previously contacted)\n",
    "14 - previous: number of contacts performed before this campaign and for this client (numeric)\n",
    "15 - poutcome: outcome of the previous marketing campaign (categorical: 'failure','nonexistent','success')\n",
    "# social and economic context attributes\n",
    "16 - emp.var.rate: employment variation rate - quarterly indicator (numeric)\n",
    "17 - cons.price.idx: consumer price index - monthly indicator (numeric)\n",
    "18 - cons.conf.idx: consumer confidence index - monthly indicator (numeric)\n",
    "19 - euribor3m: euribor 3 month rate - daily indicator (numeric)\n",
    "20 - nr.employed: number of employees - quarterly indicator (numeric)\n",
    "\n",
    "Output variable (desired target):\n",
    "21 - y - has the client subscribed a term deposit? (binary: 'yes','no')\n",
    "```\n",
    "\n"
   ]
  },
  {
   "cell_type": "code",
   "execution_count": 6,
   "metadata": {
    "colab": {
     "base_uri": "https://localhost:8080/"
    },
    "id": "6ac9OIrxzEvY",
    "outputId": "0f5ff4f1-f4f5-4de1-9846-d9e08dd1c737"
   },
   "outputs": [
    {
     "data": {
      "text/plain": [
       "(41188, 21)"
      ]
     },
     "execution_count": 6,
     "metadata": {},
     "output_type": "execute_result"
    }
   ],
   "source": [
    "# size of dataset i.e. total samples and features  #\n",
    "bank_df.shape"
   ]
  },
  {
   "cell_type": "code",
   "execution_count": 7,
   "metadata": {
    "colab": {
     "base_uri": "https://localhost:8080/"
    },
    "id": "JlPz2hFtUsl2",
    "outputId": "5385d569-6723-4bcd-9d74-d777ccda26be"
   },
   "outputs": [
    {
     "data": {
      "text/plain": [
       "Index(['job', 'marital', 'education', 'default', 'housing', 'loan', 'contact',\n",
       "       'month', 'day_of_week', 'poutcome'],\n",
       "      dtype='object')"
      ]
     },
     "execution_count": 7,
     "metadata": {},
     "output_type": "execute_result"
    }
   ],
   "source": [
    "bank_df.select_dtypes(exclude=['number']).drop('y',axis = 1).columns"
   ]
  },
  {
   "cell_type": "code",
   "execution_count": 8,
   "metadata": {
    "colab": {
     "base_uri": "https://localhost:8080/",
     "height": 492
    },
    "id": "Diy-tXhaUxfv",
    "outputId": "44b31c03-accb-48fb-9473-9bdd5366741b"
   },
   "outputs": [
    {
     "data": {
      "text/plain": [
       "job\n",
       "admin.           10422\n",
       "blue-collar       9254\n",
       "technician        6743\n",
       "services          3969\n",
       "management        2924\n",
       "retired           1720\n",
       "entrepreneur      1456\n",
       "self-employed     1421\n",
       "housemaid         1060\n",
       "unemployed        1014\n",
       "student            875\n",
       "unknown            330\n",
       "Name: count, dtype: int64"
      ]
     },
     "execution_count": 8,
     "metadata": {},
     "output_type": "execute_result"
    }
   ],
   "source": [
    "bank_df['job'].value_counts()"
   ]
  },
  {
   "cell_type": "code",
   "execution_count": 9,
   "metadata": {
    "colab": {
     "base_uri": "https://localhost:8080/",
     "height": 1000
    },
    "id": "ifThSaY7VON5",
    "outputId": "25e2e5cb-a3f0-4cf9-a75d-30116554244b"
   },
   "outputs": [
    {
     "data": {
      "image/png": "[encoded data removed]",
      "text/plain": [
       "<Figure size 640x480 with 1 Axes>"
      ]
     },
     "metadata": {},
     "output_type": "display_data"
    },
    {
     "data": {
      "image/png": "[encoded data removed]",
      "text/plain": [
       "<Figure size 640x480 with 1 Axes>"
      ]
     },
     "metadata": {},
     "output_type": "display_data"
    },
    {
     "data": {
      "image/png": "[encoded data removed]",
      "text/plain": [
       "<Figure size 640x480 with 1 Axes>"
      ]
     },
     "metadata": {},
     "output_type": "display_data"
    },
    {
     "data": {
      "image/png": "[encoded data removed]",
      "text/plain": [
       "<Figure size 640x480 with 1 Axes>"
      ]
     },
     "metadata": {},
     "output_type": "display_data"
    },
    {
     "data": {
      "image/png": "[encoded data removed]",
      "text/plain": [
       "<Figure size 640x480 with 1 Axes>"
      ]
     },
     "metadata": {},
     "output_type": "display_data"
    },
    {
     "data": {
      "image/png": "[encoded data removed]",
      "text/plain": [
       "<Figure size 640x480 with 1 Axes>"
      ]
     },
     "metadata": {},
     "output_type": "display_data"
    },
    {
     "data": {
      "image/png": "[encoded data removed]",
      "text/plain": [
       "<Figure size 640x480 with 1 Axes>"
      ]
     },
     "metadata": {},
     "output_type": "display_data"
    },
    {
     "data": {
      "image/png": "[encoded data removed]",
      "text/plain": [
       "<Figure size 640x480 with 1 Axes>"
      ]
     },
     "metadata": {},
     "output_type": "display_data"
    },
    {
     "data": {
      "image/png": "[encoded data removed]",
      "text/plain": [
       "<Figure size 640x480 with 1 Axes>"
      ]
     },
     "metadata": {},
     "output_type": "display_data"
    },
    {
     "data": {
      "image/png": "[encoded data removed]",
      "text/plain": [
       "<Figure size 640x480 with 1 Axes>"
      ]
     },
     "metadata": {},
     "output_type": "display_data"
    }
   ],
   "source": [
    " # examine non-numeric features #\n",
    " for column in bank_df.select_dtypes(exclude=['number']).drop('y',axis = 1).columns:\n",
    "  sns.countplot(x=column, data=bank_df)\n",
    "  plt.title(f'Value Counts of {column}')\n",
    "  plt.xticks(rotation=90)\n",
    "  plt.show()"
   ]
  },
  {
   "cell_type": "code",
   "execution_count": 10,
   "metadata": {
    "colab": {
     "base_uri": "https://localhost:8080/",
     "height": 742
    },
    "id": "ru9bjE3SmlbA",
    "outputId": "655999bb-d2f7-472b-b1e6-e82fbd9944c8"
   },
   "outputs": [
    {
     "data": {
      "text/plain": [
       "age               0\n",
       "job               0\n",
       "marital           0\n",
       "education         0\n",
       "default           0\n",
       "housing           0\n",
       "loan              0\n",
       "contact           0\n",
       "month             0\n",
       "day_of_week       0\n",
       "duration          0\n",
       "campaign          0\n",
       "pdays             0\n",
       "previous          0\n",
       "poutcome          0\n",
       "emp.var.rate      0\n",
       "cons.price.idx    0\n",
       "cons.conf.idx     0\n",
       "euribor3m         0\n",
       "nr.employed       0\n",
       "y                 0\n",
       "dtype: int64"
      ]
     },
     "execution_count": 10,
     "metadata": {},
     "output_type": "execute_result"
    }
   ],
   "source": [
    "# check missing values #\n",
    "bank_df.isnull().sum()"
   ]
  },
  {
   "cell_type": "code",
   "execution_count": 11,
   "metadata": {
    "colab": {
     "base_uri": "https://localhost:8080/",
     "height": 363
    },
    "id": "EIqJcDz5mlbK",
    "outputId": "9f5fb79a-5c1a-478e-c184-d3c6127d4f55"
   },
   "outputs": [
    {
     "data": {
      "text/html": [
       "<div>\n",
       "<style scoped>\n",
       "    .dataframe tbody tr th:only-of-type {\n",
       "        vertical-align: middle;\n",
       "    }\n",
       "\n",
       "    .dataframe tbody tr th {\n",
       "        vertical-align: top;\n",
       "    }\n",
       "\n",
       "    .dataframe thead th {\n",
       "        text-align: right;\n",
       "    }\n",
       "</style>\n",
       "<table border=\"1\" class=\"dataframe\">\n",
       "  <thead>\n",
       "    <tr style=\"text-align: right;\">\n",
       "      <th></th>\n",
       "      <th>count</th>\n",
       "      <th>mean</th>\n",
       "      <th>std</th>\n",
       "      <th>min</th>\n",
       "      <th>25%</th>\n",
       "      <th>50%</th>\n",
       "      <th>75%</th>\n",
       "      <th>max</th>\n",
       "    </tr>\n",
       "  </thead>\n",
       "  <tbody>\n",
       "    <tr>\n",
       "      <th>age</th>\n",
       "      <td>41188.0</td>\n",
       "      <td>40.024060</td>\n",
       "      <td>10.421250</td>\n",
       "      <td>17.000</td>\n",
       "      <td>32.000</td>\n",
       "      <td>38.000</td>\n",
       "      <td>47.000</td>\n",
       "      <td>98.000</td>\n",
       "    </tr>\n",
       "    <tr>\n",
       "      <th>duration</th>\n",
       "      <td>41188.0</td>\n",
       "      <td>258.285010</td>\n",
       "      <td>259.279249</td>\n",
       "      <td>0.000</td>\n",
       "      <td>102.000</td>\n",
       "      <td>180.000</td>\n",
       "      <td>319.000</td>\n",
       "      <td>4918.000</td>\n",
       "    </tr>\n",
       "    <tr>\n",
       "      <th>campaign</th>\n",
       "      <td>41188.0</td>\n",
       "      <td>2.567593</td>\n",
       "      <td>2.770014</td>\n",
       "      <td>1.000</td>\n",
       "      <td>1.000</td>\n",
       "      <td>2.000</td>\n",
       "      <td>3.000</td>\n",
       "      <td>56.000</td>\n",
       "    </tr>\n",
       "    <tr>\n",
       "      <th>pdays</th>\n",
       "      <td>41188.0</td>\n",
       "      <td>962.475454</td>\n",
       "      <td>186.910907</td>\n",
       "      <td>0.000</td>\n",
       "      <td>999.000</td>\n",
       "      <td>999.000</td>\n",
       "      <td>999.000</td>\n",
       "      <td>999.000</td>\n",
       "    </tr>\n",
       "    <tr>\n",
       "      <th>previous</th>\n",
       "      <td>41188.0</td>\n",
       "      <td>0.172963</td>\n",
       "      <td>0.494901</td>\n",
       "      <td>0.000</td>\n",
       "      <td>0.000</td>\n",
       "      <td>0.000</td>\n",
       "      <td>0.000</td>\n",
       "      <td>7.000</td>\n",
       "    </tr>\n",
       "    <tr>\n",
       "      <th>emp.var.rate</th>\n",
       "      <td>41188.0</td>\n",
       "      <td>0.081886</td>\n",
       "      <td>1.570960</td>\n",
       "      <td>-3.400</td>\n",
       "      <td>-1.800</td>\n",
       "      <td>1.100</td>\n",
       "      <td>1.400</td>\n",
       "      <td>1.400</td>\n",
       "    </tr>\n",
       "    <tr>\n",
       "      <th>cons.price.idx</th>\n",
       "      <td>41188.0</td>\n",
       "      <td>93.575664</td>\n",
       "      <td>0.578840</td>\n",
       "      <td>92.201</td>\n",
       "      <td>93.075</td>\n",
       "      <td>93.749</td>\n",
       "      <td>93.994</td>\n",
       "      <td>94.767</td>\n",
       "    </tr>\n",
       "    <tr>\n",
       "      <th>cons.conf.idx</th>\n",
       "      <td>41188.0</td>\n",
       "      <td>-40.502600</td>\n",
       "      <td>4.628198</td>\n",
       "      <td>-50.800</td>\n",
       "      <td>-42.700</td>\n",
       "      <td>-41.800</td>\n",
       "      <td>-36.400</td>\n",
       "      <td>-26.900</td>\n",
       "    </tr>\n",
       "    <tr>\n",
       "      <th>euribor3m</th>\n",
       "      <td>41188.0</td>\n",
       "      <td>3.621291</td>\n",
       "      <td>1.734447</td>\n",
       "      <td>0.634</td>\n",
       "      <td>1.344</td>\n",
       "      <td>4.857</td>\n",
       "      <td>4.961</td>\n",
       "      <td>5.045</td>\n",
       "    </tr>\n",
       "    <tr>\n",
       "      <th>nr.employed</th>\n",
       "      <td>41188.0</td>\n",
       "      <td>5167.035911</td>\n",
       "      <td>72.251528</td>\n",
       "      <td>4963.600</td>\n",
       "      <td>5099.100</td>\n",
       "      <td>5191.000</td>\n",
       "      <td>5228.100</td>\n",
       "      <td>5228.100</td>\n",
       "    </tr>\n",
       "  </tbody>\n",
       "</table>\n",
       "</div>"
      ],
      "text/plain": [
       "                  count         mean         std       min       25%  \\\n",
       "age             41188.0    40.024060   10.421250    17.000    32.000   \n",
       "duration        41188.0   258.285010  259.279249     0.000   102.000   \n",
       "campaign        41188.0     2.567593    2.770014     1.000     1.000   \n",
       "pdays           41188.0   962.475454  186.910907     0.000   999.000   \n",
       "previous        41188.0     0.172963    0.494901     0.000     0.000   \n",
       "emp.var.rate    41188.0     0.081886    1.570960    -3.400    -1.800   \n",
       "cons.price.idx  41188.0    93.575664    0.578840    92.201    93.075   \n",
       "cons.conf.idx   41188.0   -40.502600    4.628198   -50.800   -42.700   \n",
       "euribor3m       41188.0     3.621291    1.734447     0.634     1.344   \n",
       "nr.employed     41188.0  5167.035911   72.251528  4963.600  5099.100   \n",
       "\n",
       "                     50%       75%       max  \n",
       "age               38.000    47.000    98.000  \n",
       "duration         180.000   319.000  4918.000  \n",
       "campaign           2.000     3.000    56.000  \n",
       "pdays            999.000   999.000   999.000  \n",
       "previous           0.000     0.000     7.000  \n",
       "emp.var.rate       1.100     1.400     1.400  \n",
       "cons.price.idx    93.749    93.994    94.767  \n",
       "cons.conf.idx    -41.800   -36.400   -26.900  \n",
       "euribor3m          4.857     4.961     5.045  \n",
       "nr.employed     5191.000  5228.100  5228.100  "
      ]
     },
     "execution_count": 11,
     "metadata": {},
     "output_type": "execute_result"
    }
   ],
   "source": [
    "# statistics about dataset #\n",
    "bank_df.describe().T"
   ]
  },
  {
   "cell_type": "code",
   "execution_count": 12,
   "metadata": {
    "colab": {
     "base_uri": "https://localhost:8080/",
     "height": 394
    },
    "id": "_BIedLePmlbL",
    "outputId": "24913991-a159-48e1-cdd4-10f4950c0c4b"
   },
   "outputs": [
    {
     "data": {
      "text/html": [
       "<div>\n",
       "<style scoped>\n",
       "    .dataframe tbody tr th:only-of-type {\n",
       "        vertical-align: middle;\n",
       "    }\n",
       "\n",
       "    .dataframe tbody tr th {\n",
       "        vertical-align: top;\n",
       "    }\n",
       "\n",
       "    .dataframe thead th {\n",
       "        text-align: right;\n",
       "    }\n",
       "</style>\n",
       "<table border=\"1\" class=\"dataframe\">\n",
       "  <thead>\n",
       "    <tr style=\"text-align: right;\">\n",
       "      <th></th>\n",
       "      <th>count</th>\n",
       "      <th>unique</th>\n",
       "      <th>top</th>\n",
       "      <th>freq</th>\n",
       "    </tr>\n",
       "  </thead>\n",
       "  <tbody>\n",
       "    <tr>\n",
       "      <th>job</th>\n",
       "      <td>41188</td>\n",
       "      <td>12</td>\n",
       "      <td>admin.</td>\n",
       "      <td>10422</td>\n",
       "    </tr>\n",
       "    <tr>\n",
       "      <th>marital</th>\n",
       "      <td>41188</td>\n",
       "      <td>4</td>\n",
       "      <td>married</td>\n",
       "      <td>24928</td>\n",
       "    </tr>\n",
       "    <tr>\n",
       "      <th>education</th>\n",
       "      <td>41188</td>\n",
       "      <td>8</td>\n",
       "      <td>university.degree</td>\n",
       "      <td>12168</td>\n",
       "    </tr>\n",
       "    <tr>\n",
       "      <th>default</th>\n",
       "      <td>41188</td>\n",
       "      <td>3</td>\n",
       "      <td>no</td>\n",
       "      <td>32588</td>\n",
       "    </tr>\n",
       "    <tr>\n",
       "      <th>housing</th>\n",
       "      <td>41188</td>\n",
       "      <td>3</td>\n",
       "      <td>yes</td>\n",
       "      <td>21576</td>\n",
       "    </tr>\n",
       "    <tr>\n",
       "      <th>loan</th>\n",
       "      <td>41188</td>\n",
       "      <td>3</td>\n",
       "      <td>no</td>\n",
       "      <td>33950</td>\n",
       "    </tr>\n",
       "    <tr>\n",
       "      <th>contact</th>\n",
       "      <td>41188</td>\n",
       "      <td>2</td>\n",
       "      <td>cellular</td>\n",
       "      <td>26144</td>\n",
       "    </tr>\n",
       "    <tr>\n",
       "      <th>month</th>\n",
       "      <td>41188</td>\n",
       "      <td>10</td>\n",
       "      <td>may</td>\n",
       "      <td>13769</td>\n",
       "    </tr>\n",
       "    <tr>\n",
       "      <th>day_of_week</th>\n",
       "      <td>41188</td>\n",
       "      <td>5</td>\n",
       "      <td>thu</td>\n",
       "      <td>8623</td>\n",
       "    </tr>\n",
       "    <tr>\n",
       "      <th>poutcome</th>\n",
       "      <td>41188</td>\n",
       "      <td>3</td>\n",
       "      <td>nonexistent</td>\n",
       "      <td>35563</td>\n",
       "    </tr>\n",
       "    <tr>\n",
       "      <th>y</th>\n",
       "      <td>41188</td>\n",
       "      <td>2</td>\n",
       "      <td>no</td>\n",
       "      <td>36548</td>\n",
       "    </tr>\n",
       "  </tbody>\n",
       "</table>\n",
       "</div>"
      ],
      "text/plain": [
       "             count unique                top   freq\n",
       "job          41188     12             admin.  10422\n",
       "marital      41188      4            married  24928\n",
       "education    41188      8  university.degree  12168\n",
       "default      41188      3                 no  32588\n",
       "housing      41188      3                yes  21576\n",
       "loan         41188      3                 no  33950\n",
       "contact      41188      2           cellular  26144\n",
       "month        41188     10                may  13769\n",
       "day_of_week  41188      5                thu   8623\n",
       "poutcome     41188      3        nonexistent  35563\n",
       "y            41188      2                 no  36548"
      ]
     },
     "execution_count": 12,
     "metadata": {},
     "output_type": "execute_result"
    }
   ],
   "source": [
    "# statistics about non-numerical features #\n",
    "bank_df.describe(exclude='number').T"
   ]
  },
  {
   "cell_type": "code",
   "execution_count": 13,
   "metadata": {
    "colab": {
     "base_uri": "https://localhost:8080/",
     "height": 564
    },
    "id": "3vKRG5sYG9vD",
    "outputId": "49c9a428-77c2-4d65-c3f2-a0cbe5c7c70a"
   },
   "outputs": [
    {
     "data": {
      "image/png": "[encoded data removed]",
      "text/plain": [
       "<Figure size 1000x600 with 1 Axes>"
      ]
     },
     "metadata": {},
     "output_type": "display_data"
    }
   ],
   "source": [
    "# visualize distribution of target variable #\n",
    "plt.figure(figsize=(10, 6))\n",
    "sns.histplot(bank_df['y'])\n",
    "plt.title('Distribution of Target')\n",
    "plt.xlabel('Term Deposit')\n",
    "plt.ylabel('Frequency')\n",
    "plt.show()"
   ]
  },
  {
   "cell_type": "code",
   "execution_count": 14,
   "metadata": {
    "colab": {
     "base_uri": "https://localhost:8080/",
     "height": 782
    },
    "id": "MB2wN7yrG9fK",
    "outputId": "5cfb82a2-cf98-4ed6-82f7-33c932d40110"
   },
   "outputs": [
    {
     "data": {
      "text/plain": [
       "<Axes: >"
      ]
     },
     "execution_count": 14,
     "metadata": {},
     "output_type": "execute_result"
    },
    {
     "data": {
      "image/png": "[encoded data removed]",
      "text/plain": [
       "<Figure size 1200x800 with 2 Axes>"
      ]
     },
     "metadata": {},
     "output_type": "display_data"
    }
   ],
   "source": [
    "# Visualize correlations between independent variables #\n",
    "plt.figure(figsize=(12, 8))\n",
    "correlation_matrix = bank_df.drop('y',axis = 1).select_dtypes(include=['number']).corr()\n",
    "sns.heatmap(correlation_matrix, annot=True, cmap='coolwarm')"
   ]
  },
  {
   "cell_type": "markdown",
   "metadata": {
    "id": "NyUjMCeOmlbB"
   },
   "source": [
    "### Problem 4: Understanding the Task\n",
    "\n",
    "After examining the description and data, your goal now is to clearly state the *Business Objective* of the task.  State the objective below."
   ]
  },
  {
   "cell_type": "markdown",
   "metadata": {
    "id": "38EkfFSsY2Ap"
   },
   "source": [
    "### **Business Objective**\n",
    "\n",
    "\n",
    "The objective of this project is to compare different classifiers (k-nearest neighbors, logistic regression, decision trees, and support vector machines) using the bank marketing dataset from the UCI Machine Learning Repository. The goal is to determine the most accurate and reliable model for predicting the success of a marketing campaign for a bank.\n",
    "\n",
    "The dataset contains information about client attributes, campaign details, and outcome variables related to bank marketing campaigns. By evaluating the performance of different classifiers on this dataset, the objective is to assess their accuracy, precision, recall, and F1-score in predicting whether a client will subscribe to a term deposit or not.\n",
    "\n",
    "The aim is to identify the classifier that performs best in terms of these metrics, which will provide valuable insights for the bank's marketing campaign."
   ]
  },
  {
   "cell_type": "code",
   "execution_count": 15,
   "metadata": {
    "colab": {
     "base_uri": "https://localhost:8080/"
    },
    "id": "WQQ922v8mlbG",
    "outputId": "d97e5e1d-fe09-436c-eb52-7755400e8b0c"
   },
   "outputs": [
    {
     "name": "stdout",
     "output_type": "stream",
     "text": [
      "<class 'pandas.core.frame.DataFrame'>\n",
      "RangeIndex: 41188 entries, 0 to 41187\n",
      "Data columns (total 21 columns):\n",
      " #   Column          Non-Null Count  Dtype  \n",
      "---  ------          --------------  -----  \n",
      " 0   age             41188 non-null  int64  \n",
      " 1   job             41188 non-null  object \n",
      " 2   marital         41188 non-null  object \n",
      " 3   education       41188 non-null  object \n",
      " 4   default         41188 non-null  object \n",
      " 5   housing         41188 non-null  object \n",
      " 6   loan            41188 non-null  object \n",
      " 7   contact         41188 non-null  object \n",
      " 8   month           41188 non-null  object \n",
      " 9   day_of_week     41188 non-null  object \n",
      " 10  duration        41188 non-null  int64  \n",
      " 11  campaign        41188 non-null  int64  \n",
      " 12  pdays           41188 non-null  int64  \n",
      " 13  previous        41188 non-null  int64  \n",
      " 14  poutcome        41188 non-null  object \n",
      " 15  emp.var.rate    41188 non-null  float64\n",
      " 16  cons.price.idx  41188 non-null  float64\n",
      " 17  cons.conf.idx   41188 non-null  float64\n",
      " 18  euribor3m       41188 non-null  float64\n",
      " 19  nr.employed     41188 non-null  float64\n",
      " 20  y               41188 non-null  object \n",
      "dtypes: float64(5), int64(5), object(11)\n",
      "memory usage: 6.6+ MB\n"
     ]
    }
   ],
   "source": [
    "# dataset information #\n",
    "bank_df.info()"
   ]
  },
  {
   "cell_type": "markdown",
   "metadata": {
    "id": "JnlFlMudmlbL"
   },
   "source": [
    "### Problem 5: Engineering Features\n",
    "\n",
    "Now that you understand your business objective, we will build a basic model to get started.  Before we can do this, we must work to encode the data.  Using just the bank information features, prepare the features and target column for modeling with appropriate encoding and transformations."
   ]
  },
  {
   "cell_type": "code",
   "execution_count": 16,
   "metadata": {
    "id": "g2HdD6GBmlbM"
   },
   "outputs": [],
   "source": [
    "# encode and scale data #\n",
    "encoder = OneHotEncoder()\n",
    "scaler = StandardScaler()\n",
    "transformer = make_column_transformer((encoder, bank_df.drop('y',axis = 1).select_dtypes(exclude=['number']).columns), (scaler,  bank_df.drop('y',axis = 1).select_dtypes(include=['number']).columns), remainder=scaler)\n",
    "encoded_data = transformer.fit_transform(bank_df.drop('y',axis = 1))"
   ]
  },
  {
   "cell_type": "code",
   "execution_count": 17,
   "metadata": {
    "id": "F8Ys-MZagS47"
   },
   "outputs": [],
   "source": [
    "# Get the feature names from the transformer #\n",
    "feature_names = transformer.get_feature_names_out()\n",
    "\n",
    "# Remove the prefix from the feature names #\n",
    "feature_names = pd.Series(feature_names).str.replace('onehotencoder__', '').str.replace('standardscaler__', '')\n",
    "\n",
    "# Convert the feature names to a list #\n",
    "feature_names = feature_names.tolist()"
   ]
  },
  {
   "cell_type": "code",
   "execution_count": 18,
   "metadata": {
    "colab": {
     "base_uri": "https://localhost:8080/",
     "height": 461
    },
    "id": "49kbpZXOmlbO",
    "outputId": "1636b6c4-8c0d-4990-c094-2f95f3d1d6f6"
   },
   "outputs": [
    {
     "data": {
      "text/html": [
       "<div>\n",
       "<style scoped>\n",
       "    .dataframe tbody tr th:only-of-type {\n",
       "        vertical-align: middle;\n",
       "    }\n",
       "\n",
       "    .dataframe tbody tr th {\n",
       "        vertical-align: top;\n",
       "    }\n",
       "\n",
       "    .dataframe thead th {\n",
       "        text-align: right;\n",
       "    }\n",
       "</style>\n",
       "<table border=\"1\" class=\"dataframe\">\n",
       "  <thead>\n",
       "    <tr style=\"text-align: right;\">\n",
       "      <th></th>\n",
       "      <th>job_admin.</th>\n",
       "      <th>job_blue-collar</th>\n",
       "      <th>job_entrepreneur</th>\n",
       "      <th>job_housemaid</th>\n",
       "      <th>job_management</th>\n",
       "      <th>job_retired</th>\n",
       "      <th>job_self-employed</th>\n",
       "      <th>job_services</th>\n",
       "      <th>job_student</th>\n",
       "      <th>job_technician</th>\n",
       "      <th>...</th>\n",
       "      <th>duration</th>\n",
       "      <th>campaign</th>\n",
       "      <th>pdays</th>\n",
       "      <th>previous</th>\n",
       "      <th>emp.var.rate</th>\n",
       "      <th>cons.price.idx</th>\n",
       "      <th>cons.conf.idx</th>\n",
       "      <th>euribor3m</th>\n",
       "      <th>nr.employed</th>\n",
       "      <th>y</th>\n",
       "    </tr>\n",
       "  </thead>\n",
       "  <tbody>\n",
       "    <tr>\n",
       "      <th>0</th>\n",
       "      <td>0.0</td>\n",
       "      <td>0.0</td>\n",
       "      <td>0.0</td>\n",
       "      <td>1.0</td>\n",
       "      <td>0.0</td>\n",
       "      <td>0.0</td>\n",
       "      <td>0.0</td>\n",
       "      <td>0.0</td>\n",
       "      <td>0.0</td>\n",
       "      <td>0.0</td>\n",
       "      <td>...</td>\n",
       "      <td>0.010471</td>\n",
       "      <td>-0.565922</td>\n",
       "      <td>0.195414</td>\n",
       "      <td>-0.349494</td>\n",
       "      <td>0.648092</td>\n",
       "      <td>0.722722</td>\n",
       "      <td>0.886447</td>\n",
       "      <td>0.712460</td>\n",
       "      <td>0.331680</td>\n",
       "      <td>no</td>\n",
       "    </tr>\n",
       "    <tr>\n",
       "      <th>1</th>\n",
       "      <td>0.0</td>\n",
       "      <td>0.0</td>\n",
       "      <td>0.0</td>\n",
       "      <td>0.0</td>\n",
       "      <td>0.0</td>\n",
       "      <td>0.0</td>\n",
       "      <td>0.0</td>\n",
       "      <td>1.0</td>\n",
       "      <td>0.0</td>\n",
       "      <td>0.0</td>\n",
       "      <td>...</td>\n",
       "      <td>-0.421501</td>\n",
       "      <td>-0.565922</td>\n",
       "      <td>0.195414</td>\n",
       "      <td>-0.349494</td>\n",
       "      <td>0.648092</td>\n",
       "      <td>0.722722</td>\n",
       "      <td>0.886447</td>\n",
       "      <td>0.712460</td>\n",
       "      <td>0.331680</td>\n",
       "      <td>no</td>\n",
       "    </tr>\n",
       "    <tr>\n",
       "      <th>2</th>\n",
       "      <td>0.0</td>\n",
       "      <td>0.0</td>\n",
       "      <td>0.0</td>\n",
       "      <td>0.0</td>\n",
       "      <td>0.0</td>\n",
       "      <td>0.0</td>\n",
       "      <td>0.0</td>\n",
       "      <td>1.0</td>\n",
       "      <td>0.0</td>\n",
       "      <td>0.0</td>\n",
       "      <td>...</td>\n",
       "      <td>-0.124520</td>\n",
       "      <td>-0.565922</td>\n",
       "      <td>0.195414</td>\n",
       "      <td>-0.349494</td>\n",
       "      <td>0.648092</td>\n",
       "      <td>0.722722</td>\n",
       "      <td>0.886447</td>\n",
       "      <td>0.712460</td>\n",
       "      <td>0.331680</td>\n",
       "      <td>no</td>\n",
       "    </tr>\n",
       "    <tr>\n",
       "      <th>3</th>\n",
       "      <td>1.0</td>\n",
       "      <td>0.0</td>\n",
       "      <td>0.0</td>\n",
       "      <td>0.0</td>\n",
       "      <td>0.0</td>\n",
       "      <td>0.0</td>\n",
       "      <td>0.0</td>\n",
       "      <td>0.0</td>\n",
       "      <td>0.0</td>\n",
       "      <td>0.0</td>\n",
       "      <td>...</td>\n",
       "      <td>-0.413787</td>\n",
       "      <td>-0.565922</td>\n",
       "      <td>0.195414</td>\n",
       "      <td>-0.349494</td>\n",
       "      <td>0.648092</td>\n",
       "      <td>0.722722</td>\n",
       "      <td>0.886447</td>\n",
       "      <td>0.712460</td>\n",
       "      <td>0.331680</td>\n",
       "      <td>no</td>\n",
       "    </tr>\n",
       "    <tr>\n",
       "      <th>4</th>\n",
       "      <td>0.0</td>\n",
       "      <td>0.0</td>\n",
       "      <td>0.0</td>\n",
       "      <td>0.0</td>\n",
       "      <td>0.0</td>\n",
       "      <td>0.0</td>\n",
       "      <td>0.0</td>\n",
       "      <td>1.0</td>\n",
       "      <td>0.0</td>\n",
       "      <td>0.0</td>\n",
       "      <td>...</td>\n",
       "      <td>0.187888</td>\n",
       "      <td>-0.565922</td>\n",
       "      <td>0.195414</td>\n",
       "      <td>-0.349494</td>\n",
       "      <td>0.648092</td>\n",
       "      <td>0.722722</td>\n",
       "      <td>0.886447</td>\n",
       "      <td>0.712460</td>\n",
       "      <td>0.331680</td>\n",
       "      <td>no</td>\n",
       "    </tr>\n",
       "    <tr>\n",
       "      <th>...</th>\n",
       "      <td>...</td>\n",
       "      <td>...</td>\n",
       "      <td>...</td>\n",
       "      <td>...</td>\n",
       "      <td>...</td>\n",
       "      <td>...</td>\n",
       "      <td>...</td>\n",
       "      <td>...</td>\n",
       "      <td>...</td>\n",
       "      <td>...</td>\n",
       "      <td>...</td>\n",
       "      <td>...</td>\n",
       "      <td>...</td>\n",
       "      <td>...</td>\n",
       "      <td>...</td>\n",
       "      <td>...</td>\n",
       "      <td>...</td>\n",
       "      <td>...</td>\n",
       "      <td>...</td>\n",
       "      <td>...</td>\n",
       "      <td>...</td>\n",
       "    </tr>\n",
       "    <tr>\n",
       "      <th>41183</th>\n",
       "      <td>0.0</td>\n",
       "      <td>0.0</td>\n",
       "      <td>0.0</td>\n",
       "      <td>0.0</td>\n",
       "      <td>0.0</td>\n",
       "      <td>1.0</td>\n",
       "      <td>0.0</td>\n",
       "      <td>0.0</td>\n",
       "      <td>0.0</td>\n",
       "      <td>0.0</td>\n",
       "      <td>...</td>\n",
       "      <td>0.292025</td>\n",
       "      <td>-0.565922</td>\n",
       "      <td>0.195414</td>\n",
       "      <td>-0.349494</td>\n",
       "      <td>-0.752343</td>\n",
       "      <td>2.058168</td>\n",
       "      <td>-2.224953</td>\n",
       "      <td>-1.495186</td>\n",
       "      <td>-2.815697</td>\n",
       "      <td>yes</td>\n",
       "    </tr>\n",
       "    <tr>\n",
       "      <th>41184</th>\n",
       "      <td>0.0</td>\n",
       "      <td>1.0</td>\n",
       "      <td>0.0</td>\n",
       "      <td>0.0</td>\n",
       "      <td>0.0</td>\n",
       "      <td>0.0</td>\n",
       "      <td>0.0</td>\n",
       "      <td>0.0</td>\n",
       "      <td>0.0</td>\n",
       "      <td>0.0</td>\n",
       "      <td>...</td>\n",
       "      <td>0.481012</td>\n",
       "      <td>-0.565922</td>\n",
       "      <td>0.195414</td>\n",
       "      <td>-0.349494</td>\n",
       "      <td>-0.752343</td>\n",
       "      <td>2.058168</td>\n",
       "      <td>-2.224953</td>\n",
       "      <td>-1.495186</td>\n",
       "      <td>-2.815697</td>\n",
       "      <td>no</td>\n",
       "    </tr>\n",
       "    <tr>\n",
       "      <th>41185</th>\n",
       "      <td>0.0</td>\n",
       "      <td>0.0</td>\n",
       "      <td>0.0</td>\n",
       "      <td>0.0</td>\n",
       "      <td>0.0</td>\n",
       "      <td>1.0</td>\n",
       "      <td>0.0</td>\n",
       "      <td>0.0</td>\n",
       "      <td>0.0</td>\n",
       "      <td>0.0</td>\n",
       "      <td>...</td>\n",
       "      <td>-0.267225</td>\n",
       "      <td>-0.204909</td>\n",
       "      <td>0.195414</td>\n",
       "      <td>-0.349494</td>\n",
       "      <td>-0.752343</td>\n",
       "      <td>2.058168</td>\n",
       "      <td>-2.224953</td>\n",
       "      <td>-1.495186</td>\n",
       "      <td>-2.815697</td>\n",
       "      <td>no</td>\n",
       "    </tr>\n",
       "    <tr>\n",
       "      <th>41186</th>\n",
       "      <td>0.0</td>\n",
       "      <td>0.0</td>\n",
       "      <td>0.0</td>\n",
       "      <td>0.0</td>\n",
       "      <td>0.0</td>\n",
       "      <td>0.0</td>\n",
       "      <td>0.0</td>\n",
       "      <td>0.0</td>\n",
       "      <td>0.0</td>\n",
       "      <td>1.0</td>\n",
       "      <td>...</td>\n",
       "      <td>0.708569</td>\n",
       "      <td>-0.565922</td>\n",
       "      <td>0.195414</td>\n",
       "      <td>-0.349494</td>\n",
       "      <td>-0.752343</td>\n",
       "      <td>2.058168</td>\n",
       "      <td>-2.224953</td>\n",
       "      <td>-1.495186</td>\n",
       "      <td>-2.815697</td>\n",
       "      <td>yes</td>\n",
       "    </tr>\n",
       "    <tr>\n",
       "      <th>41187</th>\n",
       "      <td>0.0</td>\n",
       "      <td>0.0</td>\n",
       "      <td>0.0</td>\n",
       "      <td>0.0</td>\n",
       "      <td>0.0</td>\n",
       "      <td>1.0</td>\n",
       "      <td>0.0</td>\n",
       "      <td>0.0</td>\n",
       "      <td>0.0</td>\n",
       "      <td>0.0</td>\n",
       "      <td>...</td>\n",
       "      <td>-0.074380</td>\n",
       "      <td>0.156105</td>\n",
       "      <td>0.195414</td>\n",
       "      <td>1.671136</td>\n",
       "      <td>-0.752343</td>\n",
       "      <td>2.058168</td>\n",
       "      <td>-2.224953</td>\n",
       "      <td>-1.495186</td>\n",
       "      <td>-2.815697</td>\n",
       "      <td>no</td>\n",
       "    </tr>\n",
       "  </tbody>\n",
       "</table>\n",
       "<p>41188 rows × 64 columns</p>\n",
       "</div>"
      ],
      "text/plain": [
       "       job_admin.  job_blue-collar  job_entrepreneur  job_housemaid  \\\n",
       "0             0.0              0.0               0.0            1.0   \n",
       "1             0.0              0.0               0.0            0.0   \n",
       "2             0.0              0.0               0.0            0.0   \n",
       "3             1.0              0.0               0.0            0.0   \n",
       "4             0.0              0.0               0.0            0.0   \n",
       "...           ...              ...               ...            ...   \n",
       "41183         0.0              0.0               0.0            0.0   \n",
       "41184         0.0              1.0               0.0            0.0   \n",
       "41185         0.0              0.0               0.0            0.0   \n",
       "41186         0.0              0.0               0.0            0.0   \n",
       "41187         0.0              0.0               0.0            0.0   \n",
       "\n",
       "       job_management  job_retired  job_self-employed  job_services  \\\n",
       "0                 0.0          0.0                0.0           0.0   \n",
       "1                 0.0          0.0                0.0           1.0   \n",
       "2                 0.0          0.0                0.0           1.0   \n",
       "3                 0.0          0.0                0.0           0.0   \n",
       "4                 0.0          0.0                0.0           1.0   \n",
       "...               ...          ...                ...           ...   \n",
       "41183             0.0          1.0                0.0           0.0   \n",
       "41184             0.0          0.0                0.0           0.0   \n",
       "41185             0.0          1.0                0.0           0.0   \n",
       "41186             0.0          0.0                0.0           0.0   \n",
       "41187             0.0          1.0                0.0           0.0   \n",
       "\n",
       "       job_student  job_technician  ...  duration  campaign     pdays  \\\n",
       "0              0.0             0.0  ...  0.010471 -0.565922  0.195414   \n",
       "1              0.0             0.0  ... -0.421501 -0.565922  0.195414   \n",
       "2              0.0             0.0  ... -0.124520 -0.565922  0.195414   \n",
       "3              0.0             0.0  ... -0.413787 -0.565922  0.195414   \n",
       "4              0.0             0.0  ...  0.187888 -0.565922  0.195414   \n",
       "...            ...             ...  ...       ...       ...       ...   \n",
       "41183          0.0             0.0  ...  0.292025 -0.565922  0.195414   \n",
       "41184          0.0             0.0  ...  0.481012 -0.565922  0.195414   \n",
       "41185          0.0             0.0  ... -0.267225 -0.204909  0.195414   \n",
       "41186          0.0             1.0  ...  0.708569 -0.565922  0.195414   \n",
       "41187          0.0             0.0  ... -0.074380  0.156105  0.195414   \n",
       "\n",
       "       previous  emp.var.rate  cons.price.idx  cons.conf.idx  euribor3m  \\\n",
       "0     -0.349494      0.648092        0.722722       0.886447   0.712460   \n",
       "1     -0.349494      0.648092        0.722722       0.886447   0.712460   \n",
       "2     -0.349494      0.648092        0.722722       0.886447   0.712460   \n",
       "3     -0.349494      0.648092        0.722722       0.886447   0.712460   \n",
       "4     -0.349494      0.648092        0.722722       0.886447   0.712460   \n",
       "...         ...           ...             ...            ...        ...   \n",
       "41183 -0.349494     -0.752343        2.058168      -2.224953  -1.495186   \n",
       "41184 -0.349494     -0.752343        2.058168      -2.224953  -1.495186   \n",
       "41185 -0.349494     -0.752343        2.058168      -2.224953  -1.495186   \n",
       "41186 -0.349494     -0.752343        2.058168      -2.224953  -1.495186   \n",
       "41187  1.671136     -0.752343        2.058168      -2.224953  -1.495186   \n",
       "\n",
       "       nr.employed    y  \n",
       "0         0.331680   no  \n",
       "1         0.331680   no  \n",
       "2         0.331680   no  \n",
       "3         0.331680   no  \n",
       "4         0.331680   no  \n",
       "...            ...  ...  \n",
       "41183    -2.815697  yes  \n",
       "41184    -2.815697   no  \n",
       "41185    -2.815697   no  \n",
       "41186    -2.815697  yes  \n",
       "41187    -2.815697   no  \n",
       "\n",
       "[41188 rows x 64 columns]"
      ]
     },
     "execution_count": 18,
     "metadata": {},
     "output_type": "execute_result"
    }
   ],
   "source": [
    "# prepared scaled and encoded dataframe #\n",
    "bank_encoded_df = pd.DataFrame(encoded_data, columns=feature_names)\n",
    "bank_encoded_df['y'] = bank_df['y']\n",
    "bank_encoded_df"
   ]
  },
  {
   "cell_type": "code",
   "execution_count": 19,
   "metadata": {
    "colab": {
     "base_uri": "https://localhost:8080/"
    },
    "id": "H7tmDY6shU_j",
    "outputId": "8d0924e1-6516-4ed5-f749-c05989354c75"
   },
   "outputs": [
    {
     "name": "stdout",
     "output_type": "stream",
     "text": [
      "<class 'pandas.core.frame.DataFrame'>\n",
      "RangeIndex: 41188 entries, 0 to 41187\n",
      "Data columns (total 64 columns):\n",
      " #   Column                         Non-Null Count  Dtype  \n",
      "---  ------                         --------------  -----  \n",
      " 0   job_admin.                     41188 non-null  float64\n",
      " 1   job_blue-collar                41188 non-null  float64\n",
      " 2   job_entrepreneur               41188 non-null  float64\n",
      " 3   job_housemaid                  41188 non-null  float64\n",
      " 4   job_management                 41188 non-null  float64\n",
      " 5   job_retired                    41188 non-null  float64\n",
      " 6   job_self-employed              41188 non-null  float64\n",
      " 7   job_services                   41188 non-null  float64\n",
      " 8   job_student                    41188 non-null  float64\n",
      " 9   job_technician                 41188 non-null  float64\n",
      " 10  job_unemployed                 41188 non-null  float64\n",
      " 11  job_unknown                    41188 non-null  float64\n",
      " 12  marital_divorced               41188 non-null  float64\n",
      " 13  marital_married                41188 non-null  float64\n",
      " 14  marital_single                 41188 non-null  float64\n",
      " 15  marital_unknown                41188 non-null  float64\n",
      " 16  education_basic.4y             41188 non-null  float64\n",
      " 17  education_basic.6y             41188 non-null  float64\n",
      " 18  education_basic.9y             41188 non-null  float64\n",
      " 19  education_high.school          41188 non-null  float64\n",
      " 20  education_illiterate           41188 non-null  float64\n",
      " 21  education_professional.course  41188 non-null  float64\n",
      " 22  education_university.degree    41188 non-null  float64\n",
      " 23  education_unknown              41188 non-null  float64\n",
      " 24  default_no                     41188 non-null  float64\n",
      " 25  default_unknown                41188 non-null  float64\n",
      " 26  default_yes                    41188 non-null  float64\n",
      " 27  housing_no                     41188 non-null  float64\n",
      " 28  housing_unknown                41188 non-null  float64\n",
      " 29  housing_yes                    41188 non-null  float64\n",
      " 30  loan_no                        41188 non-null  float64\n",
      " 31  loan_unknown                   41188 non-null  float64\n",
      " 32  loan_yes                       41188 non-null  float64\n",
      " 33  contact_cellular               41188 non-null  float64\n",
      " 34  contact_telephone              41188 non-null  float64\n",
      " 35  month_apr                      41188 non-null  float64\n",
      " 36  month_aug                      41188 non-null  float64\n",
      " 37  month_dec                      41188 non-null  float64\n",
      " 38  month_jul                      41188 non-null  float64\n",
      " 39  month_jun                      41188 non-null  float64\n",
      " 40  month_mar                      41188 non-null  float64\n",
      " 41  month_may                      41188 non-null  float64\n",
      " 42  month_nov                      41188 non-null  float64\n",
      " 43  month_oct                      41188 non-null  float64\n",
      " 44  month_sep                      41188 non-null  float64\n",
      " 45  day_of_week_fri                41188 non-null  float64\n",
      " 46  day_of_week_mon                41188 non-null  float64\n",
      " 47  day_of_week_thu                41188 non-null  float64\n",
      " 48  day_of_week_tue                41188 non-null  float64\n",
      " 49  day_of_week_wed                41188 non-null  float64\n",
      " 50  poutcome_failure               41188 non-null  float64\n",
      " 51  poutcome_nonexistent           41188 non-null  float64\n",
      " 52  poutcome_success               41188 non-null  float64\n",
      " 53  age                            41188 non-null  float64\n",
      " 54  duration                       41188 non-null  float64\n",
      " 55  campaign                       41188 non-null  float64\n",
      " 56  pdays                          41188 non-null  float64\n",
      " 57  previous                       41188 non-null  float64\n",
      " 58  emp.var.rate                   41188 non-null  float64\n",
      " 59  cons.price.idx                 41188 non-null  float64\n",
      " 60  cons.conf.idx                  41188 non-null  float64\n",
      " 61  euribor3m                      41188 non-null  float64\n",
      " 62  nr.employed                    41188 non-null  float64\n",
      " 63  y                              41188 non-null  object \n",
      "dtypes: float64(63), object(1)\n",
      "memory usage: 20.1+ MB\n"
     ]
    }
   ],
   "source": [
    "bank_encoded_df.info()"
   ]
  },
  {
   "cell_type": "markdown",
   "metadata": {
    "id": "wvIZjM0amlbO"
   },
   "source": [
    "### Problem 6: Train/Test Split\n",
    "\n",
    "With your data prepared, split it into a train and test set."
   ]
  },
  {
   "cell_type": "code",
   "execution_count": 20,
   "metadata": {
    "id": "enSZWXrgmlbP"
   },
   "outputs": [],
   "source": [
    "# split data into 75/25 ratios due to 40K+ sample size #\n",
    "X = bank_encoded_df.drop('y',axis = 1)\n",
    "y = bank_encoded_df['y']\n",
    "X_train, X_test, y_train, y_test = train_test_split(X, y, test_size=0.25, random_state=42, shuffle=True)"
   ]
  },
  {
   "cell_type": "code",
   "execution_count": 21,
   "metadata": {
    "colab": {
     "base_uri": "https://localhost:8080/",
     "height": 273
    },
    "id": "EZa4887umlbP",
    "outputId": "4b27b1ae-30d4-4e98-efd9-5c82f9a5dbb4"
   },
   "outputs": [
    {
     "data": {
      "text/html": [
       "<div>\n",
       "<style scoped>\n",
       "    .dataframe tbody tr th:only-of-type {\n",
       "        vertical-align: middle;\n",
       "    }\n",
       "\n",
       "    .dataframe tbody tr th {\n",
       "        vertical-align: top;\n",
       "    }\n",
       "\n",
       "    .dataframe thead th {\n",
       "        text-align: right;\n",
       "    }\n",
       "</style>\n",
       "<table border=\"1\" class=\"dataframe\">\n",
       "  <thead>\n",
       "    <tr style=\"text-align: right;\">\n",
       "      <th></th>\n",
       "      <th>job_admin.</th>\n",
       "      <th>job_blue-collar</th>\n",
       "      <th>job_entrepreneur</th>\n",
       "      <th>job_housemaid</th>\n",
       "      <th>job_management</th>\n",
       "      <th>job_retired</th>\n",
       "      <th>job_self-employed</th>\n",
       "      <th>job_services</th>\n",
       "      <th>job_student</th>\n",
       "      <th>job_technician</th>\n",
       "      <th>...</th>\n",
       "      <th>age</th>\n",
       "      <th>duration</th>\n",
       "      <th>campaign</th>\n",
       "      <th>pdays</th>\n",
       "      <th>previous</th>\n",
       "      <th>emp.var.rate</th>\n",
       "      <th>cons.price.idx</th>\n",
       "      <th>cons.conf.idx</th>\n",
       "      <th>euribor3m</th>\n",
       "      <th>nr.employed</th>\n",
       "    </tr>\n",
       "  </thead>\n",
       "  <tbody>\n",
       "    <tr>\n",
       "      <th>0</th>\n",
       "      <td>0.0</td>\n",
       "      <td>0.0</td>\n",
       "      <td>0.0</td>\n",
       "      <td>1.0</td>\n",
       "      <td>0.0</td>\n",
       "      <td>0.0</td>\n",
       "      <td>0.0</td>\n",
       "      <td>0.0</td>\n",
       "      <td>0.0</td>\n",
       "      <td>0.0</td>\n",
       "      <td>...</td>\n",
       "      <td>1.533034</td>\n",
       "      <td>0.010471</td>\n",
       "      <td>-0.565922</td>\n",
       "      <td>0.195414</td>\n",
       "      <td>-0.349494</td>\n",
       "      <td>0.648092</td>\n",
       "      <td>0.722722</td>\n",
       "      <td>0.886447</td>\n",
       "      <td>0.71246</td>\n",
       "      <td>0.33168</td>\n",
       "    </tr>\n",
       "    <tr>\n",
       "      <th>1</th>\n",
       "      <td>0.0</td>\n",
       "      <td>0.0</td>\n",
       "      <td>0.0</td>\n",
       "      <td>0.0</td>\n",
       "      <td>0.0</td>\n",
       "      <td>0.0</td>\n",
       "      <td>0.0</td>\n",
       "      <td>1.0</td>\n",
       "      <td>0.0</td>\n",
       "      <td>0.0</td>\n",
       "      <td>...</td>\n",
       "      <td>1.628993</td>\n",
       "      <td>-0.421501</td>\n",
       "      <td>-0.565922</td>\n",
       "      <td>0.195414</td>\n",
       "      <td>-0.349494</td>\n",
       "      <td>0.648092</td>\n",
       "      <td>0.722722</td>\n",
       "      <td>0.886447</td>\n",
       "      <td>0.71246</td>\n",
       "      <td>0.33168</td>\n",
       "    </tr>\n",
       "    <tr>\n",
       "      <th>2</th>\n",
       "      <td>0.0</td>\n",
       "      <td>0.0</td>\n",
       "      <td>0.0</td>\n",
       "      <td>0.0</td>\n",
       "      <td>0.0</td>\n",
       "      <td>0.0</td>\n",
       "      <td>0.0</td>\n",
       "      <td>1.0</td>\n",
       "      <td>0.0</td>\n",
       "      <td>0.0</td>\n",
       "      <td>...</td>\n",
       "      <td>-0.290186</td>\n",
       "      <td>-0.124520</td>\n",
       "      <td>-0.565922</td>\n",
       "      <td>0.195414</td>\n",
       "      <td>-0.349494</td>\n",
       "      <td>0.648092</td>\n",
       "      <td>0.722722</td>\n",
       "      <td>0.886447</td>\n",
       "      <td>0.71246</td>\n",
       "      <td>0.33168</td>\n",
       "    </tr>\n",
       "    <tr>\n",
       "      <th>3</th>\n",
       "      <td>1.0</td>\n",
       "      <td>0.0</td>\n",
       "      <td>0.0</td>\n",
       "      <td>0.0</td>\n",
       "      <td>0.0</td>\n",
       "      <td>0.0</td>\n",
       "      <td>0.0</td>\n",
       "      <td>0.0</td>\n",
       "      <td>0.0</td>\n",
       "      <td>0.0</td>\n",
       "      <td>...</td>\n",
       "      <td>-0.002309</td>\n",
       "      <td>-0.413787</td>\n",
       "      <td>-0.565922</td>\n",
       "      <td>0.195414</td>\n",
       "      <td>-0.349494</td>\n",
       "      <td>0.648092</td>\n",
       "      <td>0.722722</td>\n",
       "      <td>0.886447</td>\n",
       "      <td>0.71246</td>\n",
       "      <td>0.33168</td>\n",
       "    </tr>\n",
       "    <tr>\n",
       "      <th>4</th>\n",
       "      <td>0.0</td>\n",
       "      <td>0.0</td>\n",
       "      <td>0.0</td>\n",
       "      <td>0.0</td>\n",
       "      <td>0.0</td>\n",
       "      <td>0.0</td>\n",
       "      <td>0.0</td>\n",
       "      <td>1.0</td>\n",
       "      <td>0.0</td>\n",
       "      <td>0.0</td>\n",
       "      <td>...</td>\n",
       "      <td>1.533034</td>\n",
       "      <td>0.187888</td>\n",
       "      <td>-0.565922</td>\n",
       "      <td>0.195414</td>\n",
       "      <td>-0.349494</td>\n",
       "      <td>0.648092</td>\n",
       "      <td>0.722722</td>\n",
       "      <td>0.886447</td>\n",
       "      <td>0.71246</td>\n",
       "      <td>0.33168</td>\n",
       "    </tr>\n",
       "  </tbody>\n",
       "</table>\n",
       "<p>5 rows × 63 columns</p>\n",
       "</div>"
      ],
      "text/plain": [
       "   job_admin.  job_blue-collar  job_entrepreneur  job_housemaid  \\\n",
       "0         0.0              0.0               0.0            1.0   \n",
       "1         0.0              0.0               0.0            0.0   \n",
       "2         0.0              0.0               0.0            0.0   \n",
       "3         1.0              0.0               0.0            0.0   \n",
       "4         0.0              0.0               0.0            0.0   \n",
       "\n",
       "   job_management  job_retired  job_self-employed  job_services  job_student  \\\n",
       "0             0.0          0.0                0.0           0.0          0.0   \n",
       "1             0.0          0.0                0.0           1.0          0.0   \n",
       "2             0.0          0.0                0.0           1.0          0.0   \n",
       "3             0.0          0.0                0.0           0.0          0.0   \n",
       "4             0.0          0.0                0.0           1.0          0.0   \n",
       "\n",
       "   job_technician  ...       age  duration  campaign     pdays  previous  \\\n",
       "0             0.0  ...  1.533034  0.010471 -0.565922  0.195414 -0.349494   \n",
       "1             0.0  ...  1.628993 -0.421501 -0.565922  0.195414 -0.349494   \n",
       "2             0.0  ... -0.290186 -0.124520 -0.565922  0.195414 -0.349494   \n",
       "3             0.0  ... -0.002309 -0.413787 -0.565922  0.195414 -0.349494   \n",
       "4             0.0  ...  1.533034  0.187888 -0.565922  0.195414 -0.349494   \n",
       "\n",
       "   emp.var.rate  cons.price.idx  cons.conf.idx  euribor3m  nr.employed  \n",
       "0      0.648092        0.722722       0.886447    0.71246      0.33168  \n",
       "1      0.648092        0.722722       0.886447    0.71246      0.33168  \n",
       "2      0.648092        0.722722       0.886447    0.71246      0.33168  \n",
       "3      0.648092        0.722722       0.886447    0.71246      0.33168  \n",
       "4      0.648092        0.722722       0.886447    0.71246      0.33168  \n",
       "\n",
       "[5 rows x 63 columns]"
      ]
     },
     "execution_count": 21,
     "metadata": {},
     "output_type": "execute_result"
    }
   ],
   "source": [
    "X.head()"
   ]
  },
  {
   "cell_type": "code",
   "execution_count": 22,
   "metadata": {
    "colab": {
     "base_uri": "https://localhost:8080/",
     "height": 241
    },
    "id": "Qgh51W7UmlbQ",
    "outputId": "b30529c6-d1f9-45ce-dd3d-7f4dc38d0cb0"
   },
   "outputs": [
    {
     "data": {
      "text/plain": [
       "0    no\n",
       "1    no\n",
       "2    no\n",
       "3    no\n",
       "4    no\n",
       "Name: y, dtype: object"
      ]
     },
     "execution_count": 22,
     "metadata": {},
     "output_type": "execute_result"
    }
   ],
   "source": [
    "y.head()"
   ]
  },
  {
   "cell_type": "markdown",
   "metadata": {
    "id": "bx5zKpBOmlbQ"
   },
   "source": [
    "### Problem 7: A Baseline Model\n",
    "\n",
    "Before we build our first model, we want to establish a baseline.  What is the baseline performance that our classifier should aim to beat?"
   ]
  },
  {
   "cell_type": "code",
   "execution_count": 23,
   "metadata": {
    "colab": {
     "base_uri": "https://localhost:8080/",
     "height": 178
    },
    "id": "qvAVkocy0R8S",
    "outputId": "2386e193-a6a9-4ce4-8050-7f7dd8b98d66"
   },
   "outputs": [
    {
     "data": {
      "text/plain": [
       "y\n",
       "no     0.887346\n",
       "yes    0.112654\n",
       "Name: proportion, dtype: float64"
      ]
     },
     "execution_count": 23,
     "metadata": {},
     "output_type": "execute_result"
    }
   ],
   "source": [
    "bank_encoded_df['y'].value_counts(normalize=True)"
   ]
  },
  {
   "cell_type": "code",
   "execution_count": 24,
   "metadata": {
    "colab": {
     "base_uri": "https://localhost:8080/"
    },
    "id": "0lx9d-F30Y4z",
    "outputId": "de11fc80-55dd-4b8a-c235-d43e72137d22"
   },
   "outputs": [
    {
     "name": "stdout",
     "output_type": "stream",
     "text": [
      "The baseline score is 0.89\n"
     ]
    }
   ],
   "source": [
    "print(f\"The baseline score is {bank_encoded_df['y'].value_counts(normalize=True).max():.2f}\")"
   ]
  },
  {
   "cell_type": "markdown",
   "metadata": {
    "id": "kGNTYknKmlbV"
   },
   "source": [
    "### Problem 8: A Simple Model\n",
    "\n",
    "Use Logistic Regression to build a basic model on your data.  "
   ]
  },
  {
   "cell_type": "code",
   "execution_count": 25,
   "metadata": {
    "id": "CgQkfAGTmlbR"
   },
   "outputs": [],
   "source": [
    "# baseline model #\n",
    "# Start the timer #\n",
    "start_time = time.time()\n",
    "base_regression_model = LogisticRegression()\n",
    "base_regression_model.fit(X_train, y_train)\n",
    "\n",
    "# Stop the timer\n",
    "end_time = time.time()\n",
    "# Calculate the training time\n",
    "base_regression_training_time = end_time - start_time"
   ]
  },
  {
   "cell_type": "code",
   "execution_count": 26,
   "metadata": {
    "id": "UU0sr5l3mlbR"
   },
   "outputs": [],
   "source": [
    "# make predictions #\n",
    "y_pred = base_regression_model.predict(X_test)"
   ]
  },
  {
   "cell_type": "markdown",
   "metadata": {
    "id": "ZVRJhMhhmlbX"
   },
   "source": [
    "### Problem 9: Score the Model\n",
    "\n",
    "What is the accuracy of your model?"
   ]
  },
  {
   "cell_type": "code",
   "execution_count": 27,
   "metadata": {
    "colab": {
     "base_uri": "https://localhost:8080/"
    },
    "id": "wKBmy7N829dN",
    "outputId": "7713245d-eef8-4017-93a5-109c58ab77c4"
   },
   "outputs": [
    {
     "name": "stdout",
     "output_type": "stream",
     "text": [
      "Logistic Regression Model: [Training Data]\n",
      "Training Time: 0.22 seconds\n",
      "Accuracy: 0.91\n"
     ]
    }
   ],
   "source": [
    "# Print the evaluation metrics #\n",
    "print(\"Logistic Regression Model: [Training Data]\")\n",
    "print(f\"Training Time: {base_regression_training_time:.2f} seconds\")\n",
    "print(f\"Accuracy: {base_regression_model.score(X_train, y_train):.2F}\")"
   ]
  },
  {
   "cell_type": "code",
   "execution_count": 28,
   "metadata": {
    "id": "FPCklQLkxh8-"
   },
   "outputs": [],
   "source": [
    "# Calculate evaluation metrics #\n",
    "base_regression_model_train_accuracy = base_regression_model.score(X_train, y_train)\n",
    "base_regression_model_accuracy = accuracy_score(y_test, y_pred)\n",
    "base_regression_model_precision = precision_score(y_test, y_pred, pos_label='yes')\n",
    "base_regression_model_recall = recall_score(y_test, y_pred, pos_label='yes')\n",
    "base_regression_model_f1 = f1_score(y_test, y_pred, pos_label='yes')\n",
    "y_pred_proba = base_regression_model.predict_proba(X_test)[:, 1]\n",
    "base_regression_model_roc_auc = roc_auc_score(y_test, y_pred_proba)"
   ]
  },
  {
   "cell_type": "code",
   "execution_count": 29,
   "metadata": {
    "colab": {
     "base_uri": "https://localhost:8080/"
    },
    "id": "DKzjxK2PmlbS",
    "outputId": "bc8049d1-f44e-43a1-d223-55eec3891735"
   },
   "outputs": [
    {
     "name": "stdout",
     "output_type": "stream",
     "text": [
      "Logistic Regression Model: [Test Data]\n",
      "Accuracy: 0.91\n",
      "Precision: 0.67\n",
      "Recall:0.43\n",
      "F1 Score: 0.52\n",
      "ROC AUC: 0.94\n"
     ]
    }
   ],
   "source": [
    "# Print the evaluation metrics #\n",
    "print(\"Logistic Regression Model: [Test Data]\")\n",
    "print(f\"Accuracy: {base_regression_model_accuracy:.2F}\")\n",
    "print(f\"Precision: {base_regression_model_precision:.2F}\")\n",
    "print(f\"Recall:{base_regression_model_recall:.2F}\")\n",
    "print(f\"F1 Score: {base_regression_model_f1:.2F}\")\n",
    "print(f\"ROC AUC: {base_regression_model_roc_auc:.2F}\")"
   ]
  },
  {
   "cell_type": "code",
   "execution_count": 30,
   "metadata": {
    "colab": {
     "base_uri": "https://localhost:8080/",
     "height": 206
    },
    "id": "2cdCyUbvxUd6",
    "outputId": "05ca1a45-7bab-4f76-84eb-0ea3feb101cb"
   },
   "outputs": [
    {
     "data": {
      "text/html": [
       "<div>\n",
       "<style scoped>\n",
       "    .dataframe tbody tr th:only-of-type {\n",
       "        vertical-align: middle;\n",
       "    }\n",
       "\n",
       "    .dataframe tbody tr th {\n",
       "        vertical-align: top;\n",
       "    }\n",
       "\n",
       "    .dataframe thead th {\n",
       "        text-align: right;\n",
       "    }\n",
       "</style>\n",
       "<table border=\"1\" class=\"dataframe\">\n",
       "  <thead>\n",
       "    <tr style=\"text-align: right;\">\n",
       "      <th></th>\n",
       "      <th>precision</th>\n",
       "      <th>recall</th>\n",
       "      <th>f1-score</th>\n",
       "      <th>support</th>\n",
       "    </tr>\n",
       "  </thead>\n",
       "  <tbody>\n",
       "    <tr>\n",
       "      <th>no</th>\n",
       "      <td>0.931096</td>\n",
       "      <td>0.973863</td>\n",
       "      <td>0.951999</td>\n",
       "      <td>9144.00000</td>\n",
       "    </tr>\n",
       "    <tr>\n",
       "      <th>yes</th>\n",
       "      <td>0.673943</td>\n",
       "      <td>0.428448</td>\n",
       "      <td>0.523860</td>\n",
       "      <td>1153.00000</td>\n",
       "    </tr>\n",
       "    <tr>\n",
       "      <th>accuracy</th>\n",
       "      <td>0.912790</td>\n",
       "      <td>0.912790</td>\n",
       "      <td>0.912790</td>\n",
       "      <td>0.91279</td>\n",
       "    </tr>\n",
       "    <tr>\n",
       "      <th>macro avg</th>\n",
       "      <td>0.802519</td>\n",
       "      <td>0.701155</td>\n",
       "      <td>0.737930</td>\n",
       "      <td>10297.00000</td>\n",
       "    </tr>\n",
       "    <tr>\n",
       "      <th>weighted avg</th>\n",
       "      <td>0.902301</td>\n",
       "      <td>0.912790</td>\n",
       "      <td>0.904059</td>\n",
       "      <td>10297.00000</td>\n",
       "    </tr>\n",
       "  </tbody>\n",
       "</table>\n",
       "</div>"
      ],
      "text/plain": [
       "              precision    recall  f1-score      support\n",
       "no             0.931096  0.973863  0.951999   9144.00000\n",
       "yes            0.673943  0.428448  0.523860   1153.00000\n",
       "accuracy       0.912790  0.912790  0.912790      0.91279\n",
       "macro avg      0.802519  0.701155  0.737930  10297.00000\n",
       "weighted avg   0.902301  0.912790  0.904059  10297.00000"
      ]
     },
     "execution_count": 30,
     "metadata": {},
     "output_type": "execute_result"
    }
   ],
   "source": [
    "# Calculate the classification report #\n",
    "base_regression_model_classification_rep_df = pd.DataFrame(classification_report(y_test, y_pred, output_dict=True)).transpose()\n",
    "base_regression_model_classification_rep_df"
   ]
  },
  {
   "cell_type": "code",
   "execution_count": 31,
   "metadata": {
    "colab": {
     "base_uri": "https://localhost:8080/",
     "height": 564
    },
    "id": "fCfvFzYDv1Bz",
    "outputId": "fcb95ee9-012e-47d4-afa5-0f5319496c5c"
   },
   "outputs": [
    {
     "data": {
      "image/png": "[encoded data removed]",
      "text/plain": [
       "<Figure size 800x600 with 2 Axes>"
      ]
     },
     "metadata": {},
     "output_type": "display_data"
    }
   ],
   "source": [
    "# Plot the heatmap #\n",
    "plt.figure(figsize=(8, 6))\n",
    "sns.heatmap(base_regression_model_classification_rep_df.iloc[:-1, :-1], annot=True, cmap='YlGnBu')\n",
    "plt.xlabel('Metrics')\n",
    "plt.ylabel('Classes')\n",
    "plt.title('Logistic Regression Classification Report Heatmap [Test Data]')\n",
    "plt.show()"
   ]
  },
  {
   "cell_type": "markdown",
   "metadata": {
    "id": "sDoBymcamlbc"
   },
   "source": [
    "### Problem 10: Model Comparisons\n",
    "\n",
    "Now, we aim to compare the performance of the Logistic Regression model to our KNN algorithm, Decision Tree, and SVM models.  Using the default settings for each of the models, fit and score each.  Also, be sure to compare the fit time of each of the models.  Present your findings in a `DataFrame` similar to that below:\n",
    "\n",
    "| Model | Train Time | Train Accuracy | Test Accuracy |\n",
    "| ----- | ---------- | -------------  | -----------   |\n",
    "|     |    |.     |.     |"
   ]
  },
  {
   "cell_type": "markdown",
   "metadata": {
    "id": "aTqWtczQDb3m"
   },
   "source": [
    "### KNN"
   ]
  },
  {
   "cell_type": "code",
   "execution_count": 32,
   "metadata": {
    "id": "wCpXo2L1mlbd"
   },
   "outputs": [],
   "source": [
    "# default KNN model #\n",
    "# Start the timer #\n",
    "start_time = time.time()\n",
    "base_knn_model = KNeighborsClassifier()\n",
    "base_knn_model.fit(X_train, y_train)\n",
    "\n",
    "# Stop the timer\n",
    "end_time = time.time()\n",
    "# Calculate the training time\n",
    "base_knn_model_training_time = end_time - start_time"
   ]
  },
  {
   "cell_type": "code",
   "execution_count": 33,
   "metadata": {
    "id": "qRKfTrk0G3Gi"
   },
   "outputs": [],
   "source": [
    "# make predictions #\n",
    "y_pred = base_knn_model.predict(X_test)"
   ]
  },
  {
   "cell_type": "code",
   "execution_count": 34,
   "metadata": {
    "colab": {
     "base_uri": "https://localhost:8080/"
    },
    "id": "5ZwqfKX9HIEF",
    "outputId": "13463369-d435-4f56-975f-2d2f571d4adc"
   },
   "outputs": [
    {
     "name": "stdout",
     "output_type": "stream",
     "text": [
      "KNN Model: [Training Data]\n",
      "Training Time: 0.04 seconds\n",
      "Accuracy: 0.93\n"
     ]
    }
   ],
   "source": [
    "# Print the evaluation metrics #\n",
    "print(\"KNN Model: [Training Data]\")\n",
    "print(f\"Training Time: {base_knn_model_training_time:.2f} seconds\")\n",
    "print(f\"Accuracy: {base_knn_model.score(X_train, y_train):.2F}\")"
   ]
  },
  {
   "cell_type": "code",
   "execution_count": 35,
   "metadata": {
    "id": "wtRg92lEHZBF"
   },
   "outputs": [],
   "source": [
    "# Calculate evaluation metrics #\n",
    "base_knn_model_train_accuracy = base_knn_model.score(X_train, y_train)\n",
    "base_knn_model_accuracy = accuracy_score(y_test, y_pred)\n",
    "base_knn_model_precision = precision_score(y_test, y_pred, pos_label='yes')\n",
    "base_knn_model_recall = recall_score(y_test, y_pred, pos_label='yes')\n",
    "base_knn_model_f1 = f1_score(y_test, y_pred, pos_label='yes')\n",
    "y_pred_proba = base_knn_model.predict_proba(X_test)[:, 1]\n",
    "base_knn_model_roc_auc = roc_auc_score(y_test, y_pred_proba)"
   ]
  },
  {
   "cell_type": "code",
   "execution_count": 36,
   "metadata": {
    "colab": {
     "base_uri": "https://localhost:8080/"
    },
    "id": "C-EZg5BZIcJG",
    "outputId": "c4465515-b786-41f1-9153-bc6155fca011"
   },
   "outputs": [
    {
     "name": "stdout",
     "output_type": "stream",
     "text": [
      "KNN Model: [Test Data]\n",
      "Accuracy: 0.90\n",
      "Precision: 0.59\n",
      "Recall:0.45\n",
      "F1 Score: 0.51\n",
      "ROC AUC: 0.87\n"
     ]
    }
   ],
   "source": [
    "# Print the evaluation metrics #\n",
    "print(\"KNN Model: [Test Data]\")\n",
    "print(f\"Accuracy: {base_knn_model_accuracy:.2F}\")\n",
    "print(f\"Precision: {base_knn_model_precision:.2F}\")\n",
    "print(f\"Recall:{base_knn_model_recall:.2F}\")\n",
    "print(f\"F1 Score: {base_knn_model_f1:.2F}\")\n",
    "print(f\"ROC AUC: {base_knn_model_roc_auc:.2F}\")"
   ]
  },
  {
   "cell_type": "code",
   "execution_count": 37,
   "metadata": {
    "colab": {
     "base_uri": "https://localhost:8080/",
     "height": 206
    },
    "id": "lRkKdMYpIb1B",
    "outputId": "6310919e-e0b5-471d-cdc4-d785e6087910"
   },
   "outputs": [
    {
     "data": {
      "text/html": [
       "<div>\n",
       "<style scoped>\n",
       "    .dataframe tbody tr th:only-of-type {\n",
       "        vertical-align: middle;\n",
       "    }\n",
       "\n",
       "    .dataframe tbody tr th {\n",
       "        vertical-align: top;\n",
       "    }\n",
       "\n",
       "    .dataframe thead th {\n",
       "        text-align: right;\n",
       "    }\n",
       "</style>\n",
       "<table border=\"1\" class=\"dataframe\">\n",
       "  <thead>\n",
       "    <tr style=\"text-align: right;\">\n",
       "      <th></th>\n",
       "      <th>precision</th>\n",
       "      <th>recall</th>\n",
       "      <th>f1-score</th>\n",
       "      <th>support</th>\n",
       "    </tr>\n",
       "  </thead>\n",
       "  <tbody>\n",
       "    <tr>\n",
       "      <th>no</th>\n",
       "      <td>0.932308</td>\n",
       "      <td>0.960958</td>\n",
       "      <td>0.946416</td>\n",
       "      <td>9144.00000</td>\n",
       "    </tr>\n",
       "    <tr>\n",
       "      <th>yes</th>\n",
       "      <td>0.590596</td>\n",
       "      <td>0.446661</td>\n",
       "      <td>0.508642</td>\n",
       "      <td>1153.00000</td>\n",
       "    </tr>\n",
       "    <tr>\n",
       "      <th>accuracy</th>\n",
       "      <td>0.903370</td>\n",
       "      <td>0.903370</td>\n",
       "      <td>0.903370</td>\n",
       "      <td>0.90337</td>\n",
       "    </tr>\n",
       "    <tr>\n",
       "      <th>macro avg</th>\n",
       "      <td>0.761452</td>\n",
       "      <td>0.703809</td>\n",
       "      <td>0.727529</td>\n",
       "      <td>10297.00000</td>\n",
       "    </tr>\n",
       "    <tr>\n",
       "      <th>weighted avg</th>\n",
       "      <td>0.894045</td>\n",
       "      <td>0.903370</td>\n",
       "      <td>0.897397</td>\n",
       "      <td>10297.00000</td>\n",
       "    </tr>\n",
       "  </tbody>\n",
       "</table>\n",
       "</div>"
      ],
      "text/plain": [
       "              precision    recall  f1-score      support\n",
       "no             0.932308  0.960958  0.946416   9144.00000\n",
       "yes            0.590596  0.446661  0.508642   1153.00000\n",
       "accuracy       0.903370  0.903370  0.903370      0.90337\n",
       "macro avg      0.761452  0.703809  0.727529  10297.00000\n",
       "weighted avg   0.894045  0.903370  0.897397  10297.00000"
      ]
     },
     "execution_count": 37,
     "metadata": {},
     "output_type": "execute_result"
    }
   ],
   "source": [
    "# Calculate the classification report #\n",
    "base_knn_model_classification_rep_df = pd.DataFrame(classification_report(y_test, y_pred, output_dict=True)).transpose()\n",
    "base_knn_model_classification_rep_df"
   ]
  },
  {
   "cell_type": "code",
   "execution_count": 38,
   "metadata": {
    "colab": {
     "base_uri": "https://localhost:8080/",
     "height": 564
    },
    "id": "N1vtkfz3IjyH",
    "outputId": "c27096d6-e596-4b3c-cf00-efe2856200c6"
   },
   "outputs": [
    {
     "data": {
      "image/png": "[encoded data removed]",
      "text/plain": [
       "<Figure size 800x600 with 2 Axes>"
      ]
     },
     "metadata": {},
     "output_type": "display_data"
    }
   ],
   "source": [
    "# Plot the heatmap #\n",
    "plt.figure(figsize=(8, 6))\n",
    "sns.heatmap(base_knn_model_classification_rep_df.iloc[:-1, :-1], annot=True, cmap='YlGnBu')\n",
    "plt.xlabel('Metrics')\n",
    "plt.ylabel('Classes')\n",
    "plt.title('KNN Classification Report Heatmap [Test Data]')\n",
    "plt.show()"
   ]
  },
  {
   "cell_type": "markdown",
   "metadata": {
    "id": "JHb2r2TCDexB"
   },
   "source": [
    "### Decision Tree"
   ]
  },
  {
   "cell_type": "code",
   "execution_count": 39,
   "metadata": {
    "id": "dUO291S4KK1K"
   },
   "outputs": [],
   "source": [
    "# default Decision Tree model #\n",
    "# Start the timer #\n",
    "start_time = time.time()\n",
    "base_dt_model = DecisionTreeClassifier(random_state=123)\n",
    "base_dt_model.fit(X_train, y_train)\n",
    "\n",
    "# Stop the timer\n",
    "end_time = time.time()\n",
    "# Calculate the training time\n",
    "base_dt_model_training_time = end_time - start_time"
   ]
  },
  {
   "cell_type": "code",
   "execution_count": 40,
   "metadata": {
    "id": "zodNazKBKK1k"
   },
   "outputs": [],
   "source": [
    "# make predictions #\n",
    "y_pred = base_dt_model.predict(X_test)"
   ]
  },
  {
   "cell_type": "code",
   "execution_count": 41,
   "metadata": {
    "colab": {
     "base_uri": "https://localhost:8080/"
    },
    "id": "WxQzvV_KKK1l",
    "outputId": "53f18d2d-63b6-4f4b-ccb7-74ba5f082a69"
   },
   "outputs": [
    {
     "name": "stdout",
     "output_type": "stream",
     "text": [
      "Decion Tree Model: [Training Data]\n",
      "Training Time: 0.17 seconds\n",
      "Accuracy: 1.00\n"
     ]
    }
   ],
   "source": [
    "# Print the evaluation metrics #\n",
    "print(\"Decion Tree Model: [Training Data]\")\n",
    "print(f\"Training Time: {base_dt_model_training_time:.2f} seconds\")\n",
    "print(f\"Accuracy: {base_dt_model.score(X_train, y_train):.2F}\")"
   ]
  },
  {
   "cell_type": "code",
   "execution_count": 42,
   "metadata": {
    "id": "253rxT7nKK1l"
   },
   "outputs": [],
   "source": [
    "# Calculate evaluation metrics #\n",
    "base_dt_model_train_accuracy = base_dt_model.score(X_train, y_train)\n",
    "base_dt_model_accuracy = accuracy_score(y_test, y_pred)\n",
    "base_dt_model_precision = precision_score(y_test, y_pred, pos_label='yes')\n",
    "base_dt_model_recall = recall_score(y_test, y_pred, pos_label='yes')\n",
    "base_dt_model_f1 = f1_score(y_test, y_pred, pos_label='yes')\n",
    "y_pred_proba = base_dt_model.predict_proba(X_test)[:, 1]\n",
    "base_dt_model_roc_auc = roc_auc_score(y_test, y_pred_proba)"
   ]
  },
  {
   "cell_type": "code",
   "execution_count": 43,
   "metadata": {
    "colab": {
     "base_uri": "https://localhost:8080/"
    },
    "id": "-izdVW_GKK1m",
    "outputId": "c2431ed6-46d1-4f02-8e76-ebe5f65db19a"
   },
   "outputs": [
    {
     "name": "stdout",
     "output_type": "stream",
     "text": [
      "Decision Tree Model: [Test Data]\n",
      "Accuracy: 0.89\n",
      "Precision: 0.49\n",
      "Recall:0.53\n",
      "F1 Score: 0.51\n",
      "ROC AUC: 0.73\n"
     ]
    }
   ],
   "source": [
    "# Print the evaluation metrics #\n",
    "print(\"Decision Tree Model: [Test Data]\")\n",
    "print(f\"Accuracy: {base_dt_model_accuracy:.2F}\")\n",
    "print(f\"Precision: {base_dt_model_precision:.2F}\")\n",
    "print(f\"Recall:{base_dt_model_recall:.2F}\")\n",
    "print(f\"F1 Score: {base_dt_model_f1:.2F}\")\n",
    "print(f\"ROC AUC: {base_dt_model_roc_auc:.2F}\")"
   ]
  },
  {
   "cell_type": "code",
   "execution_count": 44,
   "metadata": {
    "colab": {
     "base_uri": "https://localhost:8080/",
     "height": 206
    },
    "id": "mISZqOzjKK1n",
    "outputId": "1a5c6c34-38f2-4ac0-a9ed-fa103b457888"
   },
   "outputs": [
    {
     "data": {
      "text/html": [
       "<div>\n",
       "<style scoped>\n",
       "    .dataframe tbody tr th:only-of-type {\n",
       "        vertical-align: middle;\n",
       "    }\n",
       "\n",
       "    .dataframe tbody tr th {\n",
       "        vertical-align: top;\n",
       "    }\n",
       "\n",
       "    .dataframe thead th {\n",
       "        text-align: right;\n",
       "    }\n",
       "</style>\n",
       "<table border=\"1\" class=\"dataframe\">\n",
       "  <thead>\n",
       "    <tr style=\"text-align: right;\">\n",
       "      <th></th>\n",
       "      <th>precision</th>\n",
       "      <th>recall</th>\n",
       "      <th>f1-score</th>\n",
       "      <th>support</th>\n",
       "    </tr>\n",
       "  </thead>\n",
       "  <tbody>\n",
       "    <tr>\n",
       "      <th>no</th>\n",
       "      <td>0.940234</td>\n",
       "      <td>0.930774</td>\n",
       "      <td>0.935480</td>\n",
       "      <td>9144.000000</td>\n",
       "    </tr>\n",
       "    <tr>\n",
       "      <th>yes</th>\n",
       "      <td>0.491566</td>\n",
       "      <td>0.530789</td>\n",
       "      <td>0.510425</td>\n",
       "      <td>1153.000000</td>\n",
       "    </tr>\n",
       "    <tr>\n",
       "      <th>accuracy</th>\n",
       "      <td>0.885986</td>\n",
       "      <td>0.885986</td>\n",
       "      <td>0.885986</td>\n",
       "      <td>0.885986</td>\n",
       "    </tr>\n",
       "    <tr>\n",
       "      <th>macro avg</th>\n",
       "      <td>0.715900</td>\n",
       "      <td>0.730782</td>\n",
       "      <td>0.722953</td>\n",
       "      <td>10297.000000</td>\n",
       "    </tr>\n",
       "    <tr>\n",
       "      <th>weighted avg</th>\n",
       "      <td>0.889995</td>\n",
       "      <td>0.885986</td>\n",
       "      <td>0.887885</td>\n",
       "      <td>10297.000000</td>\n",
       "    </tr>\n",
       "  </tbody>\n",
       "</table>\n",
       "</div>"
      ],
      "text/plain": [
       "              precision    recall  f1-score       support\n",
       "no             0.940234  0.930774  0.935480   9144.000000\n",
       "yes            0.491566  0.530789  0.510425   1153.000000\n",
       "accuracy       0.885986  0.885986  0.885986      0.885986\n",
       "macro avg      0.715900  0.730782  0.722953  10297.000000\n",
       "weighted avg   0.889995  0.885986  0.887885  10297.000000"
      ]
     },
     "execution_count": 44,
     "metadata": {},
     "output_type": "execute_result"
    }
   ],
   "source": [
    "# Calculate the classification report #\n",
    "base_dt_model_classification_rep_df = pd.DataFrame(classification_report(y_test, y_pred, output_dict=True)).transpose()\n",
    "base_dt_model_classification_rep_df"
   ]
  },
  {
   "cell_type": "code",
   "execution_count": 45,
   "metadata": {
    "colab": {
     "base_uri": "https://localhost:8080/",
     "height": 564
    },
    "id": "VHFRnj6FKK1n",
    "outputId": "e869e9e8-3107-4165-f8b1-422e7ef574b6"
   },
   "outputs": [
    {
     "data": {
      "image/png": "[encoded data removed]",
      "text/plain": [
       "<Figure size 800x600 with 2 Axes>"
      ]
     },
     "metadata": {},
     "output_type": "display_data"
    }
   ],
   "source": [
    "# Plot the heatmap #\n",
    "plt.figure(figsize=(8, 6))\n",
    "sns.heatmap(base_dt_model_classification_rep_df.iloc[:-1, :-1], annot=True, cmap='YlGnBu')\n",
    "plt.xlabel('Metrics')\n",
    "plt.ylabel('Classes')\n",
    "plt.title('Decision Tree Classification Report Heatmap [Test Data]')\n",
    "plt.show()"
   ]
  },
  {
   "cell_type": "markdown",
   "metadata": {
    "id": "Zu3tOrdkDkbc"
   },
   "source": [
    "### SVM"
   ]
  },
  {
   "cell_type": "code",
   "execution_count": 46,
   "metadata": {
    "id": "wtXtzHLyKN5z"
   },
   "outputs": [],
   "source": [
    "# default KNN model #\n",
    "# Start the timer #\n",
    "start_time = time.time()\n",
    "base_svm_model = SVC(probability=True)\n",
    "base_svm_model.fit(X_train, y_train)\n",
    "\n",
    "# Stop the timer\n",
    "end_time = time.time()\n",
    "# Calculate the training time\n",
    "base_svm_model_training_time = end_time - start_time"
   ]
  },
  {
   "cell_type": "code",
   "execution_count": 47,
   "metadata": {
    "id": "QSySe-YLKN6O"
   },
   "outputs": [],
   "source": [
    "# make predictions #\n",
    "y_pred = base_svm_model.predict(X_test)"
   ]
  },
  {
   "cell_type": "code",
   "execution_count": 48,
   "metadata": {
    "colab": {
     "base_uri": "https://localhost:8080/"
    },
    "id": "gsqzEINpKN6P",
    "outputId": "5079296e-5212-411f-ae62-d8886a38327d"
   },
   "outputs": [
    {
     "name": "stdout",
     "output_type": "stream",
     "text": [
      "SVC Model: [Training Data]\n",
      "Training Time: 46.34 seconds\n",
      "Accuracy: 0.92\n"
     ]
    }
   ],
   "source": [
    "# Print the evaluation metrics #\n",
    "print(\"SVC Model: [Training Data]\")\n",
    "print(f\"Training Time: {base_svm_model_training_time:.2f} seconds\")\n",
    "print(f\"Accuracy: {base_svm_model.score(X_train, y_train):.2F}\")"
   ]
  },
  {
   "cell_type": "code",
   "execution_count": 49,
   "metadata": {
    "id": "mslVl57TKN6P"
   },
   "outputs": [],
   "source": [
    "# Calculate evaluation metrics #\n",
    "base_svm_model_train_accuracy = base_svm_model.score(X_train, y_train)\n",
    "base_svm_model_accuracy = accuracy_score(y_test, y_pred)\n",
    "base_svm_model_precision = precision_score(y_test, y_pred, pos_label='yes')\n",
    "base_svm_model_recall = recall_score(y_test, y_pred, pos_label='yes')\n",
    "base_svm_model_f1 = f1_score(y_test, y_pred, pos_label='yes')\n",
    "y_pred_proba = base_svm_model.predict_proba(X_test)[:, 1]\n",
    "base_svm_model_roc_auc = roc_auc_score(y_test, y_pred_proba)"
   ]
  },
  {
   "cell_type": "code",
   "execution_count": 50,
   "metadata": {
    "colab": {
     "base_uri": "https://localhost:8080/"
    },
    "id": "akytjbV6KN6Q",
    "outputId": "7bacd5a2-396b-43da-aac9-881f47b6cb4c"
   },
   "outputs": [
    {
     "name": "stdout",
     "output_type": "stream",
     "text": [
      "SVC Model: [Test Data]\n",
      "Accuracy: 0.91\n",
      "Precision: 0.68\n",
      "Recall:0.43\n",
      "F1 Score: 0.53\n",
      "ROC AUC: 0.91\n"
     ]
    }
   ],
   "source": [
    "# Print the evaluation metrics #\n",
    "print(\"SVC Model: [Test Data]\")\n",
    "print(f\"Accuracy: {base_svm_model_accuracy:.2F}\")\n",
    "print(f\"Precision: {base_svm_model_precision:.2F}\")\n",
    "print(f\"Recall:{base_svm_model_recall:.2F}\")\n",
    "print(f\"F1 Score: {base_svm_model_f1:.2F}\")\n",
    "print(f\"ROC AUC: {base_svm_model_roc_auc:.2F}\")"
   ]
  },
  {
   "cell_type": "code",
   "execution_count": 51,
   "metadata": {
    "colab": {
     "base_uri": "https://localhost:8080/",
     "height": 206
    },
    "id": "8lqxCro1KN6R",
    "outputId": "150e6566-fba8-48d6-d3be-6f3328e9007f"
   },
   "outputs": [
    {
     "data": {
      "text/html": [
       "<div>\n",
       "<style scoped>\n",
       "    .dataframe tbody tr th:only-of-type {\n",
       "        vertical-align: middle;\n",
       "    }\n",
       "\n",
       "    .dataframe tbody tr th {\n",
       "        vertical-align: top;\n",
       "    }\n",
       "\n",
       "    .dataframe thead th {\n",
       "        text-align: right;\n",
       "    }\n",
       "</style>\n",
       "<table border=\"1\" class=\"dataframe\">\n",
       "  <thead>\n",
       "    <tr style=\"text-align: right;\">\n",
       "      <th></th>\n",
       "      <th>precision</th>\n",
       "      <th>recall</th>\n",
       "      <th>f1-score</th>\n",
       "      <th>support</th>\n",
       "    </tr>\n",
       "  </thead>\n",
       "  <tbody>\n",
       "    <tr>\n",
       "      <th>no</th>\n",
       "      <td>0.931604</td>\n",
       "      <td>0.974191</td>\n",
       "      <td>0.952422</td>\n",
       "      <td>9144.000000</td>\n",
       "    </tr>\n",
       "    <tr>\n",
       "      <th>yes</th>\n",
       "      <td>0.678912</td>\n",
       "      <td>0.432784</td>\n",
       "      <td>0.528602</td>\n",
       "      <td>1153.000000</td>\n",
       "    </tr>\n",
       "    <tr>\n",
       "      <th>accuracy</th>\n",
       "      <td>0.913567</td>\n",
       "      <td>0.913567</td>\n",
       "      <td>0.913567</td>\n",
       "      <td>0.913567</td>\n",
       "    </tr>\n",
       "    <tr>\n",
       "      <th>macro avg</th>\n",
       "      <td>0.805258</td>\n",
       "      <td>0.703487</td>\n",
       "      <td>0.740512</td>\n",
       "      <td>10297.000000</td>\n",
       "    </tr>\n",
       "    <tr>\n",
       "      <th>weighted avg</th>\n",
       "      <td>0.903309</td>\n",
       "      <td>0.913567</td>\n",
       "      <td>0.904965</td>\n",
       "      <td>10297.000000</td>\n",
       "    </tr>\n",
       "  </tbody>\n",
       "</table>\n",
       "</div>"
      ],
      "text/plain": [
       "              precision    recall  f1-score       support\n",
       "no             0.931604  0.974191  0.952422   9144.000000\n",
       "yes            0.678912  0.432784  0.528602   1153.000000\n",
       "accuracy       0.913567  0.913567  0.913567      0.913567\n",
       "macro avg      0.805258  0.703487  0.740512  10297.000000\n",
       "weighted avg   0.903309  0.913567  0.904965  10297.000000"
      ]
     },
     "execution_count": 51,
     "metadata": {},
     "output_type": "execute_result"
    }
   ],
   "source": [
    "# Calculate the classification report #\n",
    "base_svm_model_classification_rep_df = pd.DataFrame(classification_report(y_test, y_pred, output_dict=True)).transpose()\n",
    "base_svm_model_classification_rep_df"
   ]
  },
  {
   "cell_type": "code",
   "execution_count": 52,
   "metadata": {
    "colab": {
     "base_uri": "https://localhost:8080/",
     "height": 564
    },
    "id": "N8_vCg_gKN6S",
    "outputId": "bfed12d8-a134-42e9-c97d-a8b2a6662437"
   },
   "outputs": [
    {
     "data": {
      "image/png": "[encoded data removed]",
      "text/plain": [
       "<Figure size 800x600 with 2 Axes>"
      ]
     },
     "metadata": {},
     "output_type": "display_data"
    }
   ],
   "source": [
    "# Plot the heatmap #\n",
    "plt.figure(figsize=(8, 6))\n",
    "sns.heatmap(base_svm_model_classification_rep_df.iloc[:-1, :-1], annot=True, cmap='YlGnBu')\n",
    "plt.xlabel('Metrics')\n",
    "plt.ylabel('Classes')\n",
    "plt.title('SVM Classification Report Heatmap [Test Data]')\n",
    "plt.show()"
   ]
  },
  {
   "cell_type": "markdown",
   "metadata": {
    "id": "2_JhV6MAOLu2"
   },
   "source": [
    "### Model comparision"
   ]
  },
  {
   "cell_type": "code",
   "execution_count": 53,
   "metadata": {
    "colab": {
     "base_uri": "https://localhost:8080/",
     "height": 206
    },
    "id": "bCGT9vVNN7BB",
    "outputId": "0d8bbe76-d1b8-4b97-e9e3-bd0795790c32"
   },
   "outputs": [
    {
     "data": {
      "text/html": [
       "<div>\n",
       "<style scoped>\n",
       "    .dataframe tbody tr th:only-of-type {\n",
       "        vertical-align: middle;\n",
       "    }\n",
       "\n",
       "    .dataframe tbody tr th {\n",
       "        vertical-align: top;\n",
       "    }\n",
       "\n",
       "    .dataframe thead th {\n",
       "        text-align: right;\n",
       "    }\n",
       "</style>\n",
       "<table border=\"1\" class=\"dataframe\">\n",
       "  <thead>\n",
       "    <tr style=\"text-align: right;\">\n",
       "      <th></th>\n",
       "      <th>Train Time</th>\n",
       "      <th>Train Accuracy</th>\n",
       "      <th>Test Accuracy</th>\n",
       "    </tr>\n",
       "    <tr>\n",
       "      <th>Model</th>\n",
       "      <th></th>\n",
       "      <th></th>\n",
       "      <th></th>\n",
       "    </tr>\n",
       "  </thead>\n",
       "  <tbody>\n",
       "    <tr>\n",
       "      <th>Logistic Regression</th>\n",
       "      <td>0.22</td>\n",
       "      <td>0.91</td>\n",
       "      <td>0.91</td>\n",
       "    </tr>\n",
       "    <tr>\n",
       "      <th>KNN</th>\n",
       "      <td>0.04</td>\n",
       "      <td>0.93</td>\n",
       "      <td>0.90</td>\n",
       "    </tr>\n",
       "    <tr>\n",
       "      <th>Decision Tree</th>\n",
       "      <td>0.17</td>\n",
       "      <td>1.00</td>\n",
       "      <td>0.89</td>\n",
       "    </tr>\n",
       "    <tr>\n",
       "      <th>SVC</th>\n",
       "      <td>46.34</td>\n",
       "      <td>0.92</td>\n",
       "      <td>0.89</td>\n",
       "    </tr>\n",
       "  </tbody>\n",
       "</table>\n",
       "</div>"
      ],
      "text/plain": [
       "                     Train Time  Train Accuracy  Test Accuracy\n",
       "Model                                                         \n",
       "Logistic Regression        0.22            0.91           0.91\n",
       "KNN                        0.04            0.93           0.90\n",
       "Decision Tree              0.17            1.00           0.89\n",
       "SVC                       46.34            0.92           0.89"
      ]
     },
     "execution_count": 53,
     "metadata": {},
     "output_type": "execute_result"
    }
   ],
   "source": [
    "# prepare matrix score across models #\n",
    "base_model_result_dict = {'Model': ['Logistic Regression', 'KNN', 'Decision Tree', 'SVC'],\n",
    "           'Train Time': [base_regression_training_time, base_knn_model_training_time, base_dt_model_training_time, base_svm_model_training_time], # Keep these values as numeric\n",
    "           'Train Accuracy': [base_regression_model_train_accuracy, base_knn_model_train_accuracy, base_dt_model_train_accuracy, base_svm_model_train_accuracy], # Keep these values as numeric\n",
    "           'Test Accuracy': [base_regression_model_accuracy, base_knn_model_accuracy, base_dt_model_accuracy, base_dt_model_accuracy]} # Keep these values as numeric\n",
    "results_df = pd.DataFrame(base_model_result_dict).set_index('Model')\n",
    "\n",
    "# Round numeric values to two decimal places\n",
    "results_df = results_df.round(2)\n",
    "\n",
    "results_df"
   ]
  },
  {
   "cell_type": "code",
   "execution_count": 54,
   "metadata": {
    "colab": {
     "base_uri": "https://localhost:8080/",
     "height": 487
    },
    "id": "662pC6pYWy4f",
    "outputId": "780fca38-b605-4f29-b687-dd6c5e5df0b8"
   },
   "outputs": [
    {
     "data": {
      "image/png": "[encoded data removed]",
      "text/plain": [
       "<Figure size 640x480 with 2 Axes>"
      ]
     },
     "metadata": {},
     "output_type": "display_data"
    }
   ],
   "source": [
    "# Plot the DataFrame #\n",
    "fig, ax1 = plt.subplots()\n",
    "ax2 = ax1.twinx()\n",
    "\n",
    "results_df['Test Accuracy'].plot(kind='bar', color='blue', ax=ax1, position=0, width=0.3)\n",
    "results_df['Train Accuracy'].plot(kind='bar', color='green', ax=ax1, position=1, width=0.3)\n",
    "results_df['Train Time'].plot(kind='line', color='red', marker='o', ax=ax2)\n",
    "\n",
    "ax1.set_ylabel('Accuracy')\n",
    "ax2.set_ylabel('Time (s)')\n",
    "\n",
    "ax1.set_xlabel('Model')\n",
    "ax1.set_xticklabels(results_df.index, rotation=45)\n",
    "\n",
    "plt.title('Accuracy vs. Time')\n",
    "plt.legend(loc='upper left')\n",
    "plt.tight_layout()\n",
    "plt.show()"
   ]
  },
  {
   "cell_type": "markdown",
   "metadata": {
    "id": "uBiyV89Imlbv"
   },
   "source": [
    "### Problem 11: Improving the Model\n",
    "\n",
    "Now that we have some basic models on the board, we want to try to improve these.  Below, we list a few things to explore in this pursuit.\n",
    "\n",
    "- More feature engineering and exploration.  For example, should we keep the gender feature?  Why or why not?\n",
    "- Hyperparameter tuning and grid search.  All of our models have additional hyperparameters to tune and explore.  For example the number of neighbors in KNN or the maximum depth of a Decision Tree.  \n",
    "- Adjust your performance metric"
   ]
  },
  {
   "cell_type": "markdown",
   "metadata": {
    "id": "1K1y_hJZicFl"
   },
   "source": [
    "### Evaluate : Categorical feature vs target Variable : Is it required?"
   ]
  },
  {
   "cell_type": "code",
   "execution_count": 55,
   "metadata": {
    "colab": {
     "base_uri": "https://localhost:8080/",
     "height": 206
    },
    "id": "g3CZaDOcmlb4",
    "outputId": "f5e87b0c-b42a-425d-a748-43ed1906444a"
   },
   "outputs": [
    {
     "data": {
      "text/html": [
       "<div>\n",
       "<style scoped>\n",
       "    .dataframe tbody tr th:only-of-type {\n",
       "        vertical-align: middle;\n",
       "    }\n",
       "\n",
       "    .dataframe tbody tr th {\n",
       "        vertical-align: top;\n",
       "    }\n",
       "\n",
       "    .dataframe thead th {\n",
       "        text-align: right;\n",
       "    }\n",
       "</style>\n",
       "<table border=\"1\" class=\"dataframe\">\n",
       "  <thead>\n",
       "    <tr style=\"text-align: right;\">\n",
       "      <th>y</th>\n",
       "      <th>no</th>\n",
       "      <th>yes</th>\n",
       "    </tr>\n",
       "    <tr>\n",
       "      <th>marital</th>\n",
       "      <th></th>\n",
       "      <th></th>\n",
       "    </tr>\n",
       "  </thead>\n",
       "  <tbody>\n",
       "    <tr>\n",
       "      <th>divorced</th>\n",
       "      <td>4136</td>\n",
       "      <td>476</td>\n",
       "    </tr>\n",
       "    <tr>\n",
       "      <th>married</th>\n",
       "      <td>22396</td>\n",
       "      <td>2532</td>\n",
       "    </tr>\n",
       "    <tr>\n",
       "      <th>single</th>\n",
       "      <td>9948</td>\n",
       "      <td>1620</td>\n",
       "    </tr>\n",
       "    <tr>\n",
       "      <th>unknown</th>\n",
       "      <td>68</td>\n",
       "      <td>12</td>\n",
       "    </tr>\n",
       "  </tbody>\n",
       "</table>\n",
       "</div>"
      ],
      "text/plain": [
       "y            no   yes\n",
       "marital              \n",
       "divorced   4136   476\n",
       "married   22396  2532\n",
       "single     9948  1620\n",
       "unknown      68    12"
      ]
     },
     "execution_count": 55,
     "metadata": {},
     "output_type": "execute_result"
    }
   ],
   "source": [
    "bank_df.groupby(['marital', 'y']).size().unstack()"
   ]
  },
  {
   "cell_type": "code",
   "execution_count": 56,
   "metadata": {
    "colab": {
     "base_uri": "https://localhost:8080/",
     "height": 331
    },
    "id": "yY0t8N58mlcF",
    "outputId": "b27b4875-3881-4b1b-a215-c1eda23819c2"
   },
   "outputs": [
    {
     "data": {
      "text/html": [
       "<div>\n",
       "<style scoped>\n",
       "    .dataframe tbody tr th:only-of-type {\n",
       "        vertical-align: middle;\n",
       "    }\n",
       "\n",
       "    .dataframe tbody tr th {\n",
       "        vertical-align: top;\n",
       "    }\n",
       "\n",
       "    .dataframe thead th {\n",
       "        text-align: right;\n",
       "    }\n",
       "</style>\n",
       "<table border=\"1\" class=\"dataframe\">\n",
       "  <thead>\n",
       "    <tr style=\"text-align: right;\">\n",
       "      <th>y</th>\n",
       "      <th>no</th>\n",
       "      <th>yes</th>\n",
       "    </tr>\n",
       "    <tr>\n",
       "      <th>education</th>\n",
       "      <th></th>\n",
       "      <th></th>\n",
       "    </tr>\n",
       "  </thead>\n",
       "  <tbody>\n",
       "    <tr>\n",
       "      <th>basic.4y</th>\n",
       "      <td>3748</td>\n",
       "      <td>428</td>\n",
       "    </tr>\n",
       "    <tr>\n",
       "      <th>basic.6y</th>\n",
       "      <td>2104</td>\n",
       "      <td>188</td>\n",
       "    </tr>\n",
       "    <tr>\n",
       "      <th>basic.9y</th>\n",
       "      <td>5572</td>\n",
       "      <td>473</td>\n",
       "    </tr>\n",
       "    <tr>\n",
       "      <th>high.school</th>\n",
       "      <td>8484</td>\n",
       "      <td>1031</td>\n",
       "    </tr>\n",
       "    <tr>\n",
       "      <th>illiterate</th>\n",
       "      <td>14</td>\n",
       "      <td>4</td>\n",
       "    </tr>\n",
       "    <tr>\n",
       "      <th>professional.course</th>\n",
       "      <td>4648</td>\n",
       "      <td>595</td>\n",
       "    </tr>\n",
       "    <tr>\n",
       "      <th>university.degree</th>\n",
       "      <td>10498</td>\n",
       "      <td>1670</td>\n",
       "    </tr>\n",
       "    <tr>\n",
       "      <th>unknown</th>\n",
       "      <td>1480</td>\n",
       "      <td>251</td>\n",
       "    </tr>\n",
       "  </tbody>\n",
       "</table>\n",
       "</div>"
      ],
      "text/plain": [
       "y                       no   yes\n",
       "education                       \n",
       "basic.4y              3748   428\n",
       "basic.6y              2104   188\n",
       "basic.9y              5572   473\n",
       "high.school           8484  1031\n",
       "illiterate              14     4\n",
       "professional.course   4648   595\n",
       "university.degree    10498  1670\n",
       "unknown               1480   251"
      ]
     },
     "execution_count": 56,
     "metadata": {},
     "output_type": "execute_result"
    }
   ],
   "source": [
    "bank_df.groupby(['education', 'y']).size().unstack()"
   ]
  },
  {
   "cell_type": "code",
   "execution_count": 57,
   "metadata": {
    "colab": {
     "base_uri": "https://localhost:8080/",
     "height": 175
    },
    "id": "_Loh17L-mlcG",
    "outputId": "433114ed-d40e-4dcf-9a7e-5d282512181a"
   },
   "outputs": [
    {
     "data": {
      "text/html": [
       "<div>\n",
       "<style scoped>\n",
       "    .dataframe tbody tr th:only-of-type {\n",
       "        vertical-align: middle;\n",
       "    }\n",
       "\n",
       "    .dataframe tbody tr th {\n",
       "        vertical-align: top;\n",
       "    }\n",
       "\n",
       "    .dataframe thead th {\n",
       "        text-align: right;\n",
       "    }\n",
       "</style>\n",
       "<table border=\"1\" class=\"dataframe\">\n",
       "  <thead>\n",
       "    <tr style=\"text-align: right;\">\n",
       "      <th>y</th>\n",
       "      <th>no</th>\n",
       "      <th>yes</th>\n",
       "    </tr>\n",
       "    <tr>\n",
       "      <th>default</th>\n",
       "      <th></th>\n",
       "      <th></th>\n",
       "    </tr>\n",
       "  </thead>\n",
       "  <tbody>\n",
       "    <tr>\n",
       "      <th>no</th>\n",
       "      <td>28391.0</td>\n",
       "      <td>4197.0</td>\n",
       "    </tr>\n",
       "    <tr>\n",
       "      <th>unknown</th>\n",
       "      <td>8154.0</td>\n",
       "      <td>443.0</td>\n",
       "    </tr>\n",
       "    <tr>\n",
       "      <th>yes</th>\n",
       "      <td>3.0</td>\n",
       "      <td>NaN</td>\n",
       "    </tr>\n",
       "  </tbody>\n",
       "</table>\n",
       "</div>"
      ],
      "text/plain": [
       "y             no     yes\n",
       "default                 \n",
       "no       28391.0  4197.0\n",
       "unknown   8154.0   443.0\n",
       "yes          3.0     NaN"
      ]
     },
     "execution_count": 57,
     "metadata": {},
     "output_type": "execute_result"
    }
   ],
   "source": [
    "bank_df.groupby(['default', 'y']).size().unstack()"
   ]
  },
  {
   "cell_type": "code",
   "execution_count": 58,
   "metadata": {
    "colab": {
     "base_uri": "https://localhost:8080/",
     "height": 175
    },
    "id": "cC86CWovmlc2",
    "outputId": "a1dcc05a-cebf-4b5c-bc55-5b5fea9f656b"
   },
   "outputs": [
    {
     "data": {
      "text/html": [
       "<div>\n",
       "<style scoped>\n",
       "    .dataframe tbody tr th:only-of-type {\n",
       "        vertical-align: middle;\n",
       "    }\n",
       "\n",
       "    .dataframe tbody tr th {\n",
       "        vertical-align: top;\n",
       "    }\n",
       "\n",
       "    .dataframe thead th {\n",
       "        text-align: right;\n",
       "    }\n",
       "</style>\n",
       "<table border=\"1\" class=\"dataframe\">\n",
       "  <thead>\n",
       "    <tr style=\"text-align: right;\">\n",
       "      <th>y</th>\n",
       "      <th>no</th>\n",
       "      <th>yes</th>\n",
       "    </tr>\n",
       "    <tr>\n",
       "      <th>housing</th>\n",
       "      <th></th>\n",
       "      <th></th>\n",
       "    </tr>\n",
       "  </thead>\n",
       "  <tbody>\n",
       "    <tr>\n",
       "      <th>no</th>\n",
       "      <td>16596</td>\n",
       "      <td>2026</td>\n",
       "    </tr>\n",
       "    <tr>\n",
       "      <th>unknown</th>\n",
       "      <td>883</td>\n",
       "      <td>107</td>\n",
       "    </tr>\n",
       "    <tr>\n",
       "      <th>yes</th>\n",
       "      <td>19069</td>\n",
       "      <td>2507</td>\n",
       "    </tr>\n",
       "  </tbody>\n",
       "</table>\n",
       "</div>"
      ],
      "text/plain": [
       "y           no   yes\n",
       "housing             \n",
       "no       16596  2026\n",
       "unknown    883   107\n",
       "yes      19069  2507"
      ]
     },
     "execution_count": 58,
     "metadata": {},
     "output_type": "execute_result"
    }
   ],
   "source": [
    "bank_df.groupby(['housing', 'y']).size().unstack()"
   ]
  },
  {
   "cell_type": "code",
   "execution_count": 59,
   "metadata": {
    "colab": {
     "base_uri": "https://localhost:8080/",
     "height": 175
    },
    "id": "1gOqYlgvmlc4",
    "outputId": "62d7d1c1-c271-4e8b-cee4-e5cd129856fa"
   },
   "outputs": [
    {
     "data": {
      "text/html": [
       "<div>\n",
       "<style scoped>\n",
       "    .dataframe tbody tr th:only-of-type {\n",
       "        vertical-align: middle;\n",
       "    }\n",
       "\n",
       "    .dataframe tbody tr th {\n",
       "        vertical-align: top;\n",
       "    }\n",
       "\n",
       "    .dataframe thead th {\n",
       "        text-align: right;\n",
       "    }\n",
       "</style>\n",
       "<table border=\"1\" class=\"dataframe\">\n",
       "  <thead>\n",
       "    <tr style=\"text-align: right;\">\n",
       "      <th>y</th>\n",
       "      <th>no</th>\n",
       "      <th>yes</th>\n",
       "    </tr>\n",
       "    <tr>\n",
       "      <th>loan</th>\n",
       "      <th></th>\n",
       "      <th></th>\n",
       "    </tr>\n",
       "  </thead>\n",
       "  <tbody>\n",
       "    <tr>\n",
       "      <th>no</th>\n",
       "      <td>30100</td>\n",
       "      <td>3850</td>\n",
       "    </tr>\n",
       "    <tr>\n",
       "      <th>unknown</th>\n",
       "      <td>883</td>\n",
       "      <td>107</td>\n",
       "    </tr>\n",
       "    <tr>\n",
       "      <th>yes</th>\n",
       "      <td>5565</td>\n",
       "      <td>683</td>\n",
       "    </tr>\n",
       "  </tbody>\n",
       "</table>\n",
       "</div>"
      ],
      "text/plain": [
       "y           no   yes\n",
       "loan                \n",
       "no       30100  3850\n",
       "unknown    883   107\n",
       "yes       5565   683"
      ]
     },
     "execution_count": 59,
     "metadata": {},
     "output_type": "execute_result"
    }
   ],
   "source": [
    "bank_df.groupby(['loan', 'y']).size().unstack()"
   ]
  },
  {
   "cell_type": "code",
   "execution_count": 60,
   "metadata": {
    "colab": {
     "base_uri": "https://localhost:8080/",
     "height": 143
    },
    "id": "doOA26Ukmlc5",
    "outputId": "ca67249c-dc0c-451a-8de4-bc83525cb34e"
   },
   "outputs": [
    {
     "data": {
      "text/html": [
       "<div>\n",
       "<style scoped>\n",
       "    .dataframe tbody tr th:only-of-type {\n",
       "        vertical-align: middle;\n",
       "    }\n",
       "\n",
       "    .dataframe tbody tr th {\n",
       "        vertical-align: top;\n",
       "    }\n",
       "\n",
       "    .dataframe thead th {\n",
       "        text-align: right;\n",
       "    }\n",
       "</style>\n",
       "<table border=\"1\" class=\"dataframe\">\n",
       "  <thead>\n",
       "    <tr style=\"text-align: right;\">\n",
       "      <th>y</th>\n",
       "      <th>no</th>\n",
       "      <th>yes</th>\n",
       "    </tr>\n",
       "    <tr>\n",
       "      <th>contact</th>\n",
       "      <th></th>\n",
       "      <th></th>\n",
       "    </tr>\n",
       "  </thead>\n",
       "  <tbody>\n",
       "    <tr>\n",
       "      <th>cellular</th>\n",
       "      <td>22291</td>\n",
       "      <td>3853</td>\n",
       "    </tr>\n",
       "    <tr>\n",
       "      <th>telephone</th>\n",
       "      <td>14257</td>\n",
       "      <td>787</td>\n",
       "    </tr>\n",
       "  </tbody>\n",
       "</table>\n",
       "</div>"
      ],
      "text/plain": [
       "y             no   yes\n",
       "contact               \n",
       "cellular   22291  3853\n",
       "telephone  14257   787"
      ]
     },
     "execution_count": 60,
     "metadata": {},
     "output_type": "execute_result"
    }
   ],
   "source": [
    "bank_df.groupby(['contact', 'y']).size().unstack()"
   ]
  },
  {
   "cell_type": "code",
   "execution_count": 61,
   "metadata": {
    "colab": {
     "base_uri": "https://localhost:8080/",
     "height": 394
    },
    "id": "FdVHC3Vdmlc5",
    "outputId": "f093ec28-0516-4486-d573-91b4b1470768"
   },
   "outputs": [
    {
     "data": {
      "text/html": [
       "<div>\n",
       "<style scoped>\n",
       "    .dataframe tbody tr th:only-of-type {\n",
       "        vertical-align: middle;\n",
       "    }\n",
       "\n",
       "    .dataframe tbody tr th {\n",
       "        vertical-align: top;\n",
       "    }\n",
       "\n",
       "    .dataframe thead th {\n",
       "        text-align: right;\n",
       "    }\n",
       "</style>\n",
       "<table border=\"1\" class=\"dataframe\">\n",
       "  <thead>\n",
       "    <tr style=\"text-align: right;\">\n",
       "      <th>y</th>\n",
       "      <th>no</th>\n",
       "      <th>yes</th>\n",
       "    </tr>\n",
       "    <tr>\n",
       "      <th>month</th>\n",
       "      <th></th>\n",
       "      <th></th>\n",
       "    </tr>\n",
       "  </thead>\n",
       "  <tbody>\n",
       "    <tr>\n",
       "      <th>apr</th>\n",
       "      <td>2093</td>\n",
       "      <td>539</td>\n",
       "    </tr>\n",
       "    <tr>\n",
       "      <th>aug</th>\n",
       "      <td>5523</td>\n",
       "      <td>655</td>\n",
       "    </tr>\n",
       "    <tr>\n",
       "      <th>dec</th>\n",
       "      <td>93</td>\n",
       "      <td>89</td>\n",
       "    </tr>\n",
       "    <tr>\n",
       "      <th>jul</th>\n",
       "      <td>6525</td>\n",
       "      <td>649</td>\n",
       "    </tr>\n",
       "    <tr>\n",
       "      <th>jun</th>\n",
       "      <td>4759</td>\n",
       "      <td>559</td>\n",
       "    </tr>\n",
       "    <tr>\n",
       "      <th>mar</th>\n",
       "      <td>270</td>\n",
       "      <td>276</td>\n",
       "    </tr>\n",
       "    <tr>\n",
       "      <th>may</th>\n",
       "      <td>12883</td>\n",
       "      <td>886</td>\n",
       "    </tr>\n",
       "    <tr>\n",
       "      <th>nov</th>\n",
       "      <td>3685</td>\n",
       "      <td>416</td>\n",
       "    </tr>\n",
       "    <tr>\n",
       "      <th>oct</th>\n",
       "      <td>403</td>\n",
       "      <td>315</td>\n",
       "    </tr>\n",
       "    <tr>\n",
       "      <th>sep</th>\n",
       "      <td>314</td>\n",
       "      <td>256</td>\n",
       "    </tr>\n",
       "  </tbody>\n",
       "</table>\n",
       "</div>"
      ],
      "text/plain": [
       "y         no  yes\n",
       "month            \n",
       "apr     2093  539\n",
       "aug     5523  655\n",
       "dec       93   89\n",
       "jul     6525  649\n",
       "jun     4759  559\n",
       "mar      270  276\n",
       "may    12883  886\n",
       "nov     3685  416\n",
       "oct      403  315\n",
       "sep      314  256"
      ]
     },
     "execution_count": 61,
     "metadata": {},
     "output_type": "execute_result"
    }
   ],
   "source": [
    "bank_df.groupby(['month', 'y']).size().unstack()"
   ]
  },
  {
   "cell_type": "code",
   "execution_count": 62,
   "metadata": {
    "colab": {
     "base_uri": "https://localhost:8080/",
     "height": 237
    },
    "id": "nQGj1HDkmlc6",
    "outputId": "083c15f1-026d-48e8-e1b0-ad19d03f2e13"
   },
   "outputs": [
    {
     "data": {
      "text/html": [
       "<div>\n",
       "<style scoped>\n",
       "    .dataframe tbody tr th:only-of-type {\n",
       "        vertical-align: middle;\n",
       "    }\n",
       "\n",
       "    .dataframe tbody tr th {\n",
       "        vertical-align: top;\n",
       "    }\n",
       "\n",
       "    .dataframe thead th {\n",
       "        text-align: right;\n",
       "    }\n",
       "</style>\n",
       "<table border=\"1\" class=\"dataframe\">\n",
       "  <thead>\n",
       "    <tr style=\"text-align: right;\">\n",
       "      <th>y</th>\n",
       "      <th>no</th>\n",
       "      <th>yes</th>\n",
       "    </tr>\n",
       "    <tr>\n",
       "      <th>day_of_week</th>\n",
       "      <th></th>\n",
       "      <th></th>\n",
       "    </tr>\n",
       "  </thead>\n",
       "  <tbody>\n",
       "    <tr>\n",
       "      <th>fri</th>\n",
       "      <td>6981</td>\n",
       "      <td>846</td>\n",
       "    </tr>\n",
       "    <tr>\n",
       "      <th>mon</th>\n",
       "      <td>7667</td>\n",
       "      <td>847</td>\n",
       "    </tr>\n",
       "    <tr>\n",
       "      <th>thu</th>\n",
       "      <td>7578</td>\n",
       "      <td>1045</td>\n",
       "    </tr>\n",
       "    <tr>\n",
       "      <th>tue</th>\n",
       "      <td>7137</td>\n",
       "      <td>953</td>\n",
       "    </tr>\n",
       "    <tr>\n",
       "      <th>wed</th>\n",
       "      <td>7185</td>\n",
       "      <td>949</td>\n",
       "    </tr>\n",
       "  </tbody>\n",
       "</table>\n",
       "</div>"
      ],
      "text/plain": [
       "y              no   yes\n",
       "day_of_week            \n",
       "fri          6981   846\n",
       "mon          7667   847\n",
       "thu          7578  1045\n",
       "tue          7137   953\n",
       "wed          7185   949"
      ]
     },
     "execution_count": 62,
     "metadata": {},
     "output_type": "execute_result"
    }
   ],
   "source": [
    "bank_df.groupby(['day_of_week', 'y']).size().unstack()"
   ]
  },
  {
   "cell_type": "code",
   "execution_count": 63,
   "metadata": {
    "colab": {
     "base_uri": "https://localhost:8080/",
     "height": 175
    },
    "id": "Ym1uzKiLmlc6",
    "outputId": "7f888903-467b-40c2-8975-2b6550628e73"
   },
   "outputs": [
    {
     "data": {
      "text/html": [
       "<div>\n",
       "<style scoped>\n",
       "    .dataframe tbody tr th:only-of-type {\n",
       "        vertical-align: middle;\n",
       "    }\n",
       "\n",
       "    .dataframe tbody tr th {\n",
       "        vertical-align: top;\n",
       "    }\n",
       "\n",
       "    .dataframe thead th {\n",
       "        text-align: right;\n",
       "    }\n",
       "</style>\n",
       "<table border=\"1\" class=\"dataframe\">\n",
       "  <thead>\n",
       "    <tr style=\"text-align: right;\">\n",
       "      <th>y</th>\n",
       "      <th>no</th>\n",
       "      <th>yes</th>\n",
       "    </tr>\n",
       "    <tr>\n",
       "      <th>poutcome</th>\n",
       "      <th></th>\n",
       "      <th></th>\n",
       "    </tr>\n",
       "  </thead>\n",
       "  <tbody>\n",
       "    <tr>\n",
       "      <th>failure</th>\n",
       "      <td>3647</td>\n",
       "      <td>605</td>\n",
       "    </tr>\n",
       "    <tr>\n",
       "      <th>nonexistent</th>\n",
       "      <td>32422</td>\n",
       "      <td>3141</td>\n",
       "    </tr>\n",
       "    <tr>\n",
       "      <th>success</th>\n",
       "      <td>479</td>\n",
       "      <td>894</td>\n",
       "    </tr>\n",
       "  </tbody>\n",
       "</table>\n",
       "</div>"
      ],
      "text/plain": [
       "y               no   yes\n",
       "poutcome                \n",
       "failure       3647   605\n",
       "nonexistent  32422  3141\n",
       "success        479   894"
      ]
     },
     "execution_count": 63,
     "metadata": {},
     "output_type": "execute_result"
    }
   ],
   "source": [
    "bank_df.groupby(['poutcome', 'y']).size().unstack()"
   ]
  },
  {
   "cell_type": "markdown",
   "metadata": {
    "id": "1sYV4cfwlzKp"
   },
   "source": [
    "#### Considering that the success range is similar for each day of the week, I am considering removing the **'day_of_week'** feature from the dataset and then splitting the data again"
   ]
  },
  {
   "cell_type": "code",
   "execution_count": 64,
   "metadata": {
    "id": "Gw0uSEU6ot1C"
   },
   "outputs": [],
   "source": [
    "# drop day_of_week feature #\n",
    "columns_to_drop = [col for col in bank_encoded_df.columns if col.startswith('day_of_week')]\n",
    "bank_encoded_revised_df = bank_encoded_df.drop(columns=columns_to_drop)"
   ]
  },
  {
   "cell_type": "code",
   "execution_count": 65,
   "metadata": {
    "colab": {
     "base_uri": "https://localhost:8080/"
    },
    "id": "MlX9LDG-qhpv",
    "outputId": "d2a1f2b8-4f75-4638-dd15-8c20ad791bff"
   },
   "outputs": [
    {
     "data": {
      "text/plain": [
       "((41188, 64), (41188, 59))"
      ]
     },
     "execution_count": 65,
     "metadata": {},
     "output_type": "execute_result"
    }
   ],
   "source": [
    "bank_encoded_df.shape, bank_encoded_revised_df.shape"
   ]
  },
  {
   "cell_type": "code",
   "execution_count": 66,
   "metadata": {
    "id": "egkUM8Jfmlc7"
   },
   "outputs": [],
   "source": [
    "# split data into 75/25 ratios due to 40K+ sample size #\n",
    "X2 = bank_encoded_revised_df.drop('y',axis = 1)\n",
    "y2 = bank_encoded_revised_df['y']\n",
    "X2_train, X2_test, y2_train, y2_test = train_test_split(X2, y2, test_size=0.25, random_state=42, shuffle=True)"
   ]
  },
  {
   "cell_type": "markdown",
   "metadata": {
    "id": "DIHdEYEnrqj3"
   },
   "source": [
    "###Logistic Regression - GridSearchCV"
   ]
  },
  {
   "cell_type": "code",
   "execution_count": 67,
   "metadata": {
    "id": "g1fQP7GXroLF"
   },
   "outputs": [],
   "source": [
    "# optimized model using GridSearchCV #\n",
    "# Start the timer #\n",
    "start_time = time.time()\n",
    "param_grid = {'C': [0.1, 1, 10], 'penalty': ['l1', 'l2']}\n",
    "\n",
    "regression_model = LogisticRegression()\n",
    "optimized_regression_model = GridSearchCV(regression_model, param_grid, cv=5).fit(X2_train, y2_train)\n",
    "\n",
    "# Stop the timer\n",
    "end_time = time.time()\n",
    "# Calculate the training time\n",
    "optimized_regression_training_time = end_time - start_time"
   ]
  },
  {
   "cell_type": "code",
   "execution_count": 68,
   "metadata": {
    "id": "EKbWpNmRroLG"
   },
   "outputs": [],
   "source": [
    "# make predictions #\n",
    "y2_pred = optimized_regression_model.predict(X2_test)"
   ]
  },
  {
   "cell_type": "code",
   "execution_count": 69,
   "metadata": {
    "colab": {
     "base_uri": "https://localhost:8080/"
    },
    "id": "JOc_eJYKroLH",
    "outputId": "a508c53e-5466-4262-dfdb-92620408e75b"
   },
   "outputs": [
    {
     "name": "stdout",
     "output_type": "stream",
     "text": [
      "Logistic Regression Model: [Training Data]\n",
      "Training Time: 4.31 seconds\n",
      "Accuracy: 0.91\n"
     ]
    }
   ],
   "source": [
    "# Print the evaluation metrics #\n",
    "print(\"Logistic Regression Model: [Training Data]\")\n",
    "print(f\"Training Time: {optimized_regression_training_time:.2f} seconds\")\n",
    "print(f\"Accuracy: {optimized_regression_model.score(X2_train, y2_train):.2F}\")"
   ]
  },
  {
   "cell_type": "code",
   "execution_count": 70,
   "metadata": {
    "id": "LxBOf3gfroLI"
   },
   "outputs": [],
   "source": [
    "# Calculate evaluation metrics #\n",
    "optimized_regression_model_train_accuracy = optimized_regression_model.score(X2_train, y2_train)\n",
    "optimized_regression_model_accuracy = accuracy_score(y2_test, y2_pred)\n",
    "optimized_regression_model_precision = precision_score(y2_test, y2_pred, pos_label='yes')\n",
    "optimized_regression_model_recall = recall_score(y2_test, y2_pred, pos_label='yes')\n",
    "optimized_regression_model_f1 = f1_score(y2_test, y2_pred, pos_label='yes')\n",
    "y2_pred_proba = optimized_regression_model.predict_proba(X2_test)[:, 1]\n",
    "optimized_regression_model_roc_auc = roc_auc_score(y2_test, y2_pred_proba)"
   ]
  },
  {
   "cell_type": "code",
   "execution_count": 71,
   "metadata": {
    "colab": {
     "base_uri": "https://localhost:8080/"
    },
    "id": "4natq-W4roLI",
    "outputId": "11de886f-01aa-483c-fe8b-e704e4bb6e2d"
   },
   "outputs": [
    {
     "name": "stdout",
     "output_type": "stream",
     "text": [
      "Logistic Regression Model: [Test Data]\n",
      "Accuracy: 0.91\n",
      "Precision: 0.68\n",
      "Recall:0.42\n",
      "F1 Score: 0.52\n",
      "ROC AUC: 0.94\n"
     ]
    }
   ],
   "source": [
    "# Print the evaluation metrics #\n",
    "print(\"Logistic Regression Model: [Test Data]\")\n",
    "print(f\"Accuracy: {optimized_regression_model_accuracy:.2F}\")\n",
    "print(f\"Precision: {optimized_regression_model_precision:.2F}\")\n",
    "print(f\"Recall:{optimized_regression_model_recall:.2F}\")\n",
    "print(f\"F1 Score: {optimized_regression_model_f1:.2F}\")\n",
    "print(f\"ROC AUC: {optimized_regression_model_roc_auc:.2F}\")"
   ]
  },
  {
   "cell_type": "code",
   "execution_count": 72,
   "metadata": {
    "colab": {
     "base_uri": "https://localhost:8080/",
     "height": 206
    },
    "id": "GB0NIiVQroLJ",
    "outputId": "37669470-dc52-4507-a120-4fa19375ae3f"
   },
   "outputs": [
    {
     "data": {
      "text/html": [
       "<div>\n",
       "<style scoped>\n",
       "    .dataframe tbody tr th:only-of-type {\n",
       "        vertical-align: middle;\n",
       "    }\n",
       "\n",
       "    .dataframe tbody tr th {\n",
       "        vertical-align: top;\n",
       "    }\n",
       "\n",
       "    .dataframe thead th {\n",
       "        text-align: right;\n",
       "    }\n",
       "</style>\n",
       "<table border=\"1\" class=\"dataframe\">\n",
       "  <thead>\n",
       "    <tr style=\"text-align: right;\">\n",
       "      <th></th>\n",
       "      <th>precision</th>\n",
       "      <th>recall</th>\n",
       "      <th>f1-score</th>\n",
       "      <th>support</th>\n",
       "    </tr>\n",
       "  </thead>\n",
       "  <tbody>\n",
       "    <tr>\n",
       "      <th>no</th>\n",
       "      <td>0.930354</td>\n",
       "      <td>0.974409</td>\n",
       "      <td>0.951872</td>\n",
       "      <td>9144.000000</td>\n",
       "    </tr>\n",
       "    <tr>\n",
       "      <th>yes</th>\n",
       "      <td>0.675000</td>\n",
       "      <td>0.421509</td>\n",
       "      <td>0.518954</td>\n",
       "      <td>1153.000000</td>\n",
       "    </tr>\n",
       "    <tr>\n",
       "      <th>accuracy</th>\n",
       "      <td>0.912499</td>\n",
       "      <td>0.912499</td>\n",
       "      <td>0.912499</td>\n",
       "      <td>0.912499</td>\n",
       "    </tr>\n",
       "    <tr>\n",
       "      <th>macro avg</th>\n",
       "      <td>0.802677</td>\n",
       "      <td>0.697959</td>\n",
       "      <td>0.735413</td>\n",
       "      <td>10297.000000</td>\n",
       "    </tr>\n",
       "    <tr>\n",
       "      <th>weighted avg</th>\n",
       "      <td>0.901761</td>\n",
       "      <td>0.912499</td>\n",
       "      <td>0.903396</td>\n",
       "      <td>10297.000000</td>\n",
       "    </tr>\n",
       "  </tbody>\n",
       "</table>\n",
       "</div>"
      ],
      "text/plain": [
       "              precision    recall  f1-score       support\n",
       "no             0.930354  0.974409  0.951872   9144.000000\n",
       "yes            0.675000  0.421509  0.518954   1153.000000\n",
       "accuracy       0.912499  0.912499  0.912499      0.912499\n",
       "macro avg      0.802677  0.697959  0.735413  10297.000000\n",
       "weighted avg   0.901761  0.912499  0.903396  10297.000000"
      ]
     },
     "execution_count": 72,
     "metadata": {},
     "output_type": "execute_result"
    }
   ],
   "source": [
    "# Calculate the classification report #\n",
    "optimized_regression_model_classification_rep_df = pd.DataFrame(classification_report(y2_test, y2_pred, output_dict=True)).transpose()\n",
    "optimized_regression_model_classification_rep_df"
   ]
  },
  {
   "cell_type": "code",
   "execution_count": 73,
   "metadata": {
    "colab": {
     "base_uri": "https://localhost:8080/",
     "height": 564
    },
    "id": "1ClOhFDcroLJ",
    "outputId": "d8a12d16-a175-4e06-bc59-c3fd54b19226"
   },
   "outputs": [
    {
     "data": {
      "image/png": "[encoded data removed]",
      "text/plain": [
       "<Figure size 800x600 with 2 Axes>"
      ]
     },
     "metadata": {},
     "output_type": "display_data"
    }
   ],
   "source": [
    "# Plot the heatmap #\n",
    "plt.figure(figsize=(8, 6))\n",
    "sns.heatmap(optimized_regression_model_classification_rep_df.iloc[:-1, :-1], annot=True, cmap='Set3')\n",
    "plt.xlabel('Metrics')\n",
    "plt.ylabel('Classes')\n",
    "plt.title('Logistic Regression Classification Report Heatmap [Test Data]')\n",
    "plt.show()"
   ]
  },
  {
   "cell_type": "markdown",
   "metadata": {
    "id": "Mb7IC1j4wsll"
   },
   "source": [
    "###KNN - GridSearchCV"
   ]
  },
  {
   "cell_type": "code",
   "execution_count": 74,
   "metadata": {
    "id": "J_IRCZp_0ApH"
   },
   "outputs": [],
   "source": [
    "# optimized model using GridSearchCV #\n",
    "# Start the timer #\n",
    "start_time = time.time()\n",
    "param_grid = {'n_neighbors': [3, 5, 7], 'weights': ['uniform', 'distance']}\n",
    "\n",
    "knn_model = KNeighborsClassifier()\n",
    "optimized_knn_model = GridSearchCV(knn_model, param_grid, cv=5).fit(X2_train, y2_train)\n",
    "\n",
    "# Stop the timer\n",
    "end_time = time.time()\n",
    "# Calculate the training time\n",
    "optimized_knn_training_time = end_time - start_time"
   ]
  },
  {
   "cell_type": "code",
   "execution_count": 75,
   "metadata": {
    "id": "J_l1P0ZP0Apo"
   },
   "outputs": [],
   "source": [
    "# make predictions #\n",
    "y2_pred = optimized_knn_model.predict(X2_test)"
   ]
  },
  {
   "cell_type": "code",
   "execution_count": 76,
   "metadata": {
    "colab": {
     "base_uri": "https://localhost:8080/"
    },
    "id": "JU7CnST50App",
    "outputId": "c303a813-daa4-471b-96e5-182c3d345387"
   },
   "outputs": [
    {
     "name": "stdout",
     "output_type": "stream",
     "text": [
      "KNN Model: [Training Data]\n",
      "Training Time: 5.51 seconds\n",
      "Accuracy: 0.92\n"
     ]
    }
   ],
   "source": [
    "# Print the evaluation metrics #\n",
    "print(\"KNN Model: [Training Data]\")\n",
    "print(f\"Training Time: {optimized_knn_training_time:.2f} seconds\")\n",
    "print(f\"Accuracy: {optimized_knn_model.score(X2_train, y2_train):.2F}\")"
   ]
  },
  {
   "cell_type": "code",
   "execution_count": 77,
   "metadata": {
    "id": "ITS0N4rc0Apq"
   },
   "outputs": [],
   "source": [
    "# Calculate evaluation metrics #\n",
    "optimized_knn_model_train_accuracy = optimized_knn_model.score(X2_train, y2_train)\n",
    "optimized_knn_model_accuracy = accuracy_score(y2_test, y2_pred)\n",
    "optimized_knn_model_precision = precision_score(y2_test, y2_pred, pos_label='yes')\n",
    "optimized_knn_model_recall = recall_score(y2_test, y2_pred, pos_label='yes')\n",
    "optimized_knn_model_f1 = f1_score(y2_test, y2_pred, pos_label='yes')\n",
    "y2_pred_proba = optimized_knn_model.predict_proba(X2_test)[:, 1]\n",
    "optimized_knn_model_roc_auc = roc_auc_score(y2_test, y2_pred_proba)"
   ]
  },
  {
   "cell_type": "code",
   "execution_count": 78,
   "metadata": {
    "colab": {
     "base_uri": "https://localhost:8080/"
    },
    "id": "WJSPMow90Aps",
    "outputId": "264e9f43-0603-41b4-a24a-1eefc7729bc5"
   },
   "outputs": [
    {
     "name": "stdout",
     "output_type": "stream",
     "text": [
      "KNN Model: [Test Data]\n",
      "Accuracy: 0.90\n",
      "Precision: 0.60\n",
      "Recall:0.43\n",
      "F1 Score: 0.50\n",
      "ROC AUC: 0.89\n"
     ]
    }
   ],
   "source": [
    "# Print the evaluation metrics #\n",
    "print(\"KNN Model: [Test Data]\")\n",
    "print(f\"Accuracy: {optimized_knn_model_accuracy:.2F}\")\n",
    "print(f\"Precision: {optimized_knn_model_precision:.2F}\")\n",
    "print(f\"Recall:{optimized_knn_model_recall:.2F}\")\n",
    "print(f\"F1 Score: {optimized_knn_model_f1:.2F}\")\n",
    "print(f\"ROC AUC: {optimized_knn_model_roc_auc:.2F}\")"
   ]
  },
  {
   "cell_type": "code",
   "execution_count": 79,
   "metadata": {
    "colab": {
     "base_uri": "https://localhost:8080/",
     "height": 206
    },
    "id": "bOw1b4DN0Apt",
    "outputId": "fccd64b5-f31a-4447-d448-2647e1f21fce"
   },
   "outputs": [
    {
     "data": {
      "text/html": [
       "<div>\n",
       "<style scoped>\n",
       "    .dataframe tbody tr th:only-of-type {\n",
       "        vertical-align: middle;\n",
       "    }\n",
       "\n",
       "    .dataframe tbody tr th {\n",
       "        vertical-align: top;\n",
       "    }\n",
       "\n",
       "    .dataframe thead th {\n",
       "        text-align: right;\n",
       "    }\n",
       "</style>\n",
       "<table border=\"1\" class=\"dataframe\">\n",
       "  <thead>\n",
       "    <tr style=\"text-align: right;\">\n",
       "      <th></th>\n",
       "      <th>precision</th>\n",
       "      <th>recall</th>\n",
       "      <th>f1-score</th>\n",
       "      <th>support</th>\n",
       "    </tr>\n",
       "  </thead>\n",
       "  <tbody>\n",
       "    <tr>\n",
       "      <th>no</th>\n",
       "      <td>0.930419</td>\n",
       "      <td>0.963692</td>\n",
       "      <td>0.946763</td>\n",
       "      <td>9144.000000</td>\n",
       "    </tr>\n",
       "    <tr>\n",
       "      <th>yes</th>\n",
       "      <td>0.598063</td>\n",
       "      <td>0.428448</td>\n",
       "      <td>0.499242</td>\n",
       "      <td>1153.000000</td>\n",
       "    </tr>\n",
       "    <tr>\n",
       "      <th>accuracy</th>\n",
       "      <td>0.903758</td>\n",
       "      <td>0.903758</td>\n",
       "      <td>0.903758</td>\n",
       "      <td>0.903758</td>\n",
       "    </tr>\n",
       "    <tr>\n",
       "      <th>macro avg</th>\n",
       "      <td>0.764241</td>\n",
       "      <td>0.696070</td>\n",
       "      <td>0.723003</td>\n",
       "      <td>10297.000000</td>\n",
       "    </tr>\n",
       "    <tr>\n",
       "      <th>weighted avg</th>\n",
       "      <td>0.893204</td>\n",
       "      <td>0.903758</td>\n",
       "      <td>0.896652</td>\n",
       "      <td>10297.000000</td>\n",
       "    </tr>\n",
       "  </tbody>\n",
       "</table>\n",
       "</div>"
      ],
      "text/plain": [
       "              precision    recall  f1-score       support\n",
       "no             0.930419  0.963692  0.946763   9144.000000\n",
       "yes            0.598063  0.428448  0.499242   1153.000000\n",
       "accuracy       0.903758  0.903758  0.903758      0.903758\n",
       "macro avg      0.764241  0.696070  0.723003  10297.000000\n",
       "weighted avg   0.893204  0.903758  0.896652  10297.000000"
      ]
     },
     "execution_count": 79,
     "metadata": {},
     "output_type": "execute_result"
    }
   ],
   "source": [
    "# Calculate the classification report #\n",
    "optimized_knn_model_classification_rep_df = pd.DataFrame(classification_report(y2_test, y2_pred, output_dict=True)).transpose()\n",
    "optimized_knn_model_classification_rep_df"
   ]
  },
  {
   "cell_type": "code",
   "execution_count": 80,
   "metadata": {
    "colab": {
     "base_uri": "https://localhost:8080/",
     "height": 564
    },
    "id": "KDRBTDwz0Apu",
    "outputId": "7d9e1d5f-ded4-4d55-fc47-73dce5606e9d"
   },
   "outputs": [
    {
     "data": {
      "image/png": "[encoded data removed]",
      "text/plain": [
       "<Figure size 800x600 with 2 Axes>"
      ]
     },
     "metadata": {},
     "output_type": "display_data"
    }
   ],
   "source": [
    "# Plot the heatmap #\n",
    "plt.figure(figsize=(8, 6))\n",
    "sns.heatmap(optimized_knn_model_classification_rep_df.iloc[:-1, :-1], annot=True, cmap='Set3')\n",
    "plt.xlabel('Metrics')\n",
    "plt.ylabel('Classes')\n",
    "plt.title('KNN Classification Report Heatmap [Test Data]')\n",
    "plt.show()"
   ]
  },
  {
   "cell_type": "markdown",
   "metadata": {
    "id": "asPJ3OfW5Efl"
   },
   "source": [
    "### Decision Tree - GridSearchCV"
   ]
  },
  {
   "cell_type": "code",
   "execution_count": 81,
   "metadata": {
    "id": "_tUNUDMz5It4"
   },
   "outputs": [],
   "source": [
    "# optimized model using GridSearchCV #\n",
    "# Start the timer #\n",
    "start_time = time.time()\n",
    "param_grid = {'max_depth': [3, 5, 7], 'min_samples_split': [2, 5, 10]}\n",
    "\n",
    "dt_model = DecisionTreeClassifier(random_state=123)\n",
    "optimized_dt_model = GridSearchCV(dt_model, param_grid, cv=5).fit(X2_train, y2_train)\n",
    "\n",
    "# Stop the timer\n",
    "end_time = time.time()\n",
    "# Calculate the training time\n",
    "optimized_dt_training_time = end_time - start_time"
   ]
  },
  {
   "cell_type": "code",
   "execution_count": 82,
   "metadata": {
    "id": "biGHOdTH5It5"
   },
   "outputs": [],
   "source": [
    "# make predictions #\n",
    "y2_pred = optimized_dt_model.predict(X2_test)"
   ]
  },
  {
   "cell_type": "code",
   "execution_count": 83,
   "metadata": {
    "colab": {
     "base_uri": "https://localhost:8080/"
    },
    "id": "-WYz2Xvs5It6",
    "outputId": "52eb6571-173b-473f-a341-2d8ce913584b"
   },
   "outputs": [
    {
     "name": "stdout",
     "output_type": "stream",
     "text": [
      "Decision Tree Model: [Training Data]\n",
      "Training Time: 2.69 seconds\n",
      "Accuracy: 0.92\n"
     ]
    }
   ],
   "source": [
    "# Print the evaluation metrics #\n",
    "print(\"Decision Tree Model: [Training Data]\")\n",
    "print(f\"Training Time: {optimized_dt_training_time:.2f} seconds\")\n",
    "print(f\"Accuracy: {optimized_dt_model.score(X2_train, y2_train):.2F}\")"
   ]
  },
  {
   "cell_type": "code",
   "execution_count": 84,
   "metadata": {
    "id": "0weWszJD5It6"
   },
   "outputs": [],
   "source": [
    "# Calculate evaluation metrics #\n",
    "optimized_dt_model_train_accuracy = optimized_dt_model.score(X2_train, y2_train)\n",
    "optimized_dt_model_accuracy = accuracy_score(y2_test, y2_pred)\n",
    "optimized_dt_model_precision = precision_score(y2_test, y2_pred, pos_label='yes')\n",
    "optimized_dt_model_recall = recall_score(y2_test, y2_pred, pos_label='yes')\n",
    "optimized_dt_model_f1 = f1_score(y2_test, y2_pred, pos_label='yes')\n",
    "y2_pred_proba = optimized_dt_model.predict_proba(X2_test)[:, 1]\n",
    "optimized_dt_model_roc_auc = roc_auc_score(y2_test, y2_pred_proba)"
   ]
  },
  {
   "cell_type": "code",
   "execution_count": 85,
   "metadata": {
    "colab": {
     "base_uri": "https://localhost:8080/"
    },
    "id": "ZxGthIae5It7",
    "outputId": "1c698e49-5cd7-4c0e-dc6c-4ee01a74da8a"
   },
   "outputs": [
    {
     "name": "stdout",
     "output_type": "stream",
     "text": [
      "Decision Tree Model: [Test Data]\n",
      "Accuracy: 0.92\n",
      "Precision: 0.65\n",
      "Recall:0.53\n",
      "F1 Score: 0.59\n",
      "ROC AUC: 0.92\n"
     ]
    }
   ],
   "source": [
    "# Print the evaluation metrics #\n",
    "print(\"Decision Tree Model: [Test Data]\")\n",
    "print(f\"Accuracy: {optimized_dt_model_accuracy:.2F}\")\n",
    "print(f\"Precision: {optimized_dt_model_precision:.2F}\")\n",
    "print(f\"Recall:{optimized_dt_model_recall:.2F}\")\n",
    "print(f\"F1 Score: {optimized_dt_model_f1:.2F}\")\n",
    "print(f\"ROC AUC: {optimized_dt_model_roc_auc:.2F}\")"
   ]
  },
  {
   "cell_type": "code",
   "execution_count": 86,
   "metadata": {
    "colab": {
     "base_uri": "https://localhost:8080/",
     "height": 206
    },
    "id": "Cg5Q_XRH5It8",
    "outputId": "e815c48c-b37c-479e-c8b6-c42a40846c65"
   },
   "outputs": [
    {
     "data": {
      "text/html": [
       "<div>\n",
       "<style scoped>\n",
       "    .dataframe tbody tr th:only-of-type {\n",
       "        vertical-align: middle;\n",
       "    }\n",
       "\n",
       "    .dataframe tbody tr th {\n",
       "        vertical-align: top;\n",
       "    }\n",
       "\n",
       "    .dataframe thead th {\n",
       "        text-align: right;\n",
       "    }\n",
       "</style>\n",
       "<table border=\"1\" class=\"dataframe\">\n",
       "  <thead>\n",
       "    <tr style=\"text-align: right;\">\n",
       "      <th></th>\n",
       "      <th>precision</th>\n",
       "      <th>recall</th>\n",
       "      <th>f1-score</th>\n",
       "      <th>support</th>\n",
       "    </tr>\n",
       "  </thead>\n",
       "  <tbody>\n",
       "    <tr>\n",
       "      <th>no</th>\n",
       "      <td>0.942113</td>\n",
       "      <td>0.964676</td>\n",
       "      <td>0.953261</td>\n",
       "      <td>9144.000000</td>\n",
       "    </tr>\n",
       "    <tr>\n",
       "      <th>yes</th>\n",
       "      <td>0.654176</td>\n",
       "      <td>0.529922</td>\n",
       "      <td>0.585529</td>\n",
       "      <td>1153.000000</td>\n",
       "    </tr>\n",
       "    <tr>\n",
       "      <th>accuracy</th>\n",
       "      <td>0.915995</td>\n",
       "      <td>0.915995</td>\n",
       "      <td>0.915995</td>\n",
       "      <td>0.915995</td>\n",
       "    </tr>\n",
       "    <tr>\n",
       "      <th>macro avg</th>\n",
       "      <td>0.798144</td>\n",
       "      <td>0.747299</td>\n",
       "      <td>0.769395</td>\n",
       "      <td>10297.000000</td>\n",
       "    </tr>\n",
       "    <tr>\n",
       "      <th>weighted avg</th>\n",
       "      <td>0.909871</td>\n",
       "      <td>0.915995</td>\n",
       "      <td>0.912084</td>\n",
       "      <td>10297.000000</td>\n",
       "    </tr>\n",
       "  </tbody>\n",
       "</table>\n",
       "</div>"
      ],
      "text/plain": [
       "              precision    recall  f1-score       support\n",
       "no             0.942113  0.964676  0.953261   9144.000000\n",
       "yes            0.654176  0.529922  0.585529   1153.000000\n",
       "accuracy       0.915995  0.915995  0.915995      0.915995\n",
       "macro avg      0.798144  0.747299  0.769395  10297.000000\n",
       "weighted avg   0.909871  0.915995  0.912084  10297.000000"
      ]
     },
     "execution_count": 86,
     "metadata": {},
     "output_type": "execute_result"
    }
   ],
   "source": [
    "# Calculate the classification report #\n",
    "optimized_dt_model_classification_rep_df = pd.DataFrame(classification_report(y2_test, y2_pred, output_dict=True)).transpose()\n",
    "optimized_dt_model_classification_rep_df"
   ]
  },
  {
   "cell_type": "code",
   "execution_count": 87,
   "metadata": {
    "colab": {
     "base_uri": "https://localhost:8080/",
     "height": 564
    },
    "id": "bv0IrUeJ5It9",
    "outputId": "5712da90-cda1-4eac-d719-62c678756494"
   },
   "outputs": [
    {
     "data": {
      "image/png": "[encoded data removed]",
      "text/plain": [
       "<Figure size 800x600 with 2 Axes>"
      ]
     },
     "metadata": {},
     "output_type": "display_data"
    }
   ],
   "source": [
    "# Plot the heatmap #\n",
    "plt.figure(figsize=(8, 6))\n",
    "sns.heatmap(optimized_dt_model_classification_rep_df.iloc[:-1, :-1], annot=True, cmap='Set3')\n",
    "plt.xlabel('Metrics')\n",
    "plt.ylabel('Classes')\n",
    "plt.title('Decision Tree Classification Report Heatmap [Test Data]')\n",
    "plt.show()"
   ]
  },
  {
   "cell_type": "markdown",
   "metadata": {
    "id": "fFIS_hO95Rhu"
   },
   "source": [
    "### SVM - GridSearchCV"
   ]
  },
  {
   "cell_type": "code",
   "execution_count": 88,
   "metadata": {
    "id": "jfj9tPo05Vw5"
   },
   "outputs": [],
   "source": [
    "# optimized model using GridSearchCV #\n",
    "# Start the timer #\n",
    "start_time = time.time()\n",
    "param_grid = {'kernel': ['linear', 'rbf']}\n",
    "\n",
    "svc_model = SVC(probability=True)\n",
    "optimized_svc_model = GridSearchCV(svc_model, param_grid).fit(X2_train, y2_train)\n",
    "\n",
    "# Stop the timer\n",
    "end_time = time.time()\n",
    "# Calculate the training time\n",
    "optimized_svc_training_time = end_time - start_time"
   ]
  },
  {
   "cell_type": "code",
   "execution_count": null,
   "metadata": {
    "id": "08gcdn5W5Vw7"
   },
   "outputs": [],
   "source": [
    "# make predictions #\n",
    "y2_pred = optimized_svc_model.predict(X2_test)"
   ]
  },
  {
   "cell_type": "code",
   "execution_count": null,
   "metadata": {
    "colab": {
     "base_uri": "https://localhost:8080/"
    },
    "id": "KyrkbK085Vw8",
    "outputId": "ff3b05c1-927e-4e4b-ec28-5e00ca3754ce"
   },
   "outputs": [],
   "source": [
    "# Print the evaluation metrics #\n",
    "print(\"KNN Regression Model: [Training Data]\")\n",
    "print(f\"Training Time: {optimized_svc_training_time:.2f} seconds\")\n",
    "print(f\"Accuracy: {optimized_svc_model.score(X2_train, y2_train):.2F}\")"
   ]
  },
  {
   "cell_type": "code",
   "execution_count": null,
   "metadata": {
    "id": "7ugBFTpf5Vw9"
   },
   "outputs": [],
   "source": [
    "# Calculate evaluation metrics #\n",
    "optimized_svc_model_train_accuracy = optimized_svc_model.score(X2_train, y2_train)\n",
    "optimized_svc_model_accuracy = accuracy_score(y2_test, y2_pred)\n",
    "optimized_svc_model_precision = precision_score(y2_test, y2_pred, pos_label='yes')\n",
    "optimized_svc_model_recall = recall_score(y2_test, y2_pred, pos_label='yes')\n",
    "optimized_svc_model_f1 = f1_score(y2_test, y2_pred, pos_label='yes')\n",
    "y2_pred_proba = optimized_svc_model.predict_proba(X2_test)[:, 1]\n",
    "optimized_svc_model_roc_auc = roc_auc_score(y2_test, y2_pred_proba)"
   ]
  },
  {
   "cell_type": "code",
   "execution_count": null,
   "metadata": {
    "colab": {
     "base_uri": "https://localhost:8080/"
    },
    "id": "2OrIFuP95Vw9",
    "outputId": "9ce77c7d-28aa-49da-c185-76e62e6cb405"
   },
   "outputs": [],
   "source": [
    "# Print the evaluation metrics #\n",
    "print(\"SVM Model: [Test Data]\")\n",
    "print(f\"Accuracy: {optimized_svc_model_accuracy:.2F}\")\n",
    "print(f\"Precision: {optimized_svc_model_precision:.2F}\")\n",
    "print(f\"Recall:{optimized_svc_model_recall:.2F}\")\n",
    "print(f\"F1 Score: {optimized_svc_model_f1:.2F}\")\n",
    "print(f\"ROC AUC: {optimized_svc_model_roc_auc:.2F}\")"
   ]
  },
  {
   "cell_type": "code",
   "execution_count": null,
   "metadata": {
    "colab": {
     "base_uri": "https://localhost:8080/",
     "height": 206
    },
    "id": "ss_HO-EP5Vw-",
    "outputId": "0f05a068-cbbc-479b-f98d-3181a14d089a"
   },
   "outputs": [],
   "source": [
    "# Calculate the classification report #\n",
    "optimized_svc_model_classification_rep_df = pd.DataFrame(classification_report(y2_test, y2_pred, output_dict=True)).transpose()\n",
    "optimized_svc_model_classification_rep_df"
   ]
  },
  {
   "cell_type": "code",
   "execution_count": null,
   "metadata": {
    "colab": {
     "base_uri": "https://localhost:8080/",
     "height": 564
    },
    "id": "1Nx8QuSF5Vw_",
    "outputId": "3e646e4b-0215-47a8-f5f6-debefdac7464"
   },
   "outputs": [],
   "source": [
    "# Plot the heatmap #\n",
    "plt.figure(figsize=(8, 6))\n",
    "sns.heatmap(optimized_svc_model_classification_rep_df.iloc[:-1, :-1], annot=True, cmap='Set3')\n",
    "plt.xlabel('Metrics')\n",
    "plt.ylabel('Classes')\n",
    "plt.title('KNN Regression Classification Report Heatmap [Test Data]')\n",
    "plt.show()"
   ]
  },
  {
   "cell_type": "markdown",
   "metadata": {
    "id": "AXeZvUmqZprO"
   },
   "source": [
    "# Evaluation\n",
    "\n",
    "In order to determine the most suitable model, we will perform the following steps:\n",
    "\n",
    "*   Model Comparison i.e. Accuracy (Test/Train), Fit Time etc.\n",
    "*   Visualize Accuracy vs Time\n",
    "*   Best Params\n",
    "*   Feature Importance / Coefficient\n",
    "*   ROC Curve\n",
    "*   Visualize Classification Report i.e. Accuracy, Precision, Recall etc.\n",
    "*   Visualize Confusion Matrix\n",
    "\n",
    "\n",
    "\n",
    "\n",
    "\n",
    "\n",
    "\n"
   ]
  },
  {
   "cell_type": "markdown",
   "metadata": {
    "id": "CMBttl3sAahf"
   },
   "source": [
    "### Model comparision"
   ]
  },
  {
   "cell_type": "code",
   "execution_count": null,
   "metadata": {
    "colab": {
     "base_uri": "https://localhost:8080/",
     "height": 206
    },
    "id": "nyfBiki7Aah-",
    "outputId": "25554df6-a0e0-4690-d00f-f3186916992e"
   },
   "outputs": [],
   "source": [
    "# prepare matrix score across models #\n",
    "optimized_model_result_dict = {'Model': ['Logistic Regression', 'KNN', 'Decision Tree', 'SVC'],\n",
    "           'Train Time': [optimized_regression_training_time,optimized_knn_training_time, optimized_dt_training_time, optimized_svc_training_time], # Keep these values as numeric\n",
    "           'Train Accuracy': [optimized_regression_model_train_accuracy, optimized_knn_model_train_accuracy, optimized_dt_model_train_accuracy, optimized_svc_model_train_accuracy], # Keep these values as numeric\n",
    "           'Test Accuracy': [optimized_regression_model_accuracy, optimized_knn_model_accuracy, optimized_dt_model_accuracy, optimized_svc_model_accuracy]} # Keep these values as numeric\n",
    "results2_df = pd.DataFrame(optimized_model_result_dict).set_index('Model')\n",
    "\n",
    "# Round numeric values to two decimal places\n",
    "results2_df = results2_df.round(2)\n",
    "\n",
    "results2_df"
   ]
  },
  {
   "cell_type": "markdown",
   "metadata": {
    "id": "vLX8EAKdRYKH"
   },
   "source": [
    "### Accuracy vs Time"
   ]
  },
  {
   "cell_type": "code",
   "execution_count": null,
   "metadata": {
    "colab": {
     "base_uri": "https://localhost:8080/",
     "height": 487
    },
    "id": "hKEIMaShAah_",
    "outputId": "6650a8f7-1ca1-4f98-d02f-3338facdac0f"
   },
   "outputs": [],
   "source": [
    "# Plot the DataFrame #\n",
    "fig, ax1 = plt.subplots()\n",
    "ax2 = ax1.twinx()\n",
    "\n",
    "results2_df['Test Accuracy'].plot(kind='bar', color='blue', ax=ax1, position=0, width=0.3)\n",
    "results2_df['Train Accuracy'].plot(kind='bar', color='green', ax=ax1, position=1, width=0.3)\n",
    "results2_df['Train Time'].plot(kind='line', color='red', marker='o', ax=ax2)\n",
    "\n",
    "ax1.set_ylabel('Accuracy')\n",
    "ax2.set_ylabel('Time (s)')\n",
    "\n",
    "ax1.set_xlabel('Model')\n",
    "ax1.set_xticklabels(results2_df.index, rotation=45)\n",
    "\n",
    "plt.title('Accuracy vs. Time')\n",
    "plt.legend(loc='upper left')\n",
    "plt.tight_layout()\n",
    "plt.show()"
   ]
  },
  {
   "cell_type": "markdown",
   "metadata": {
    "id": "jDPvD514C72L"
   },
   "source": [
    "### Best Params"
   ]
  },
  {
   "cell_type": "code",
   "execution_count": null,
   "metadata": {
    "colab": {
     "base_uri": "https://localhost:8080/"
    },
    "id": "USNvAy-oC-r4",
    "outputId": "23e3635a-49d8-4b04-c2a4-def073eecaa9"
   },
   "outputs": [],
   "source": [
    "print(f\" Best Params for Decision Tree Model : {optimized_dt_model.best_params_}\")\n",
    "print(f\" Best Params for Logistic Regression Model : {optimized_regression_model.best_params_}\")\n",
    "print(f\" Best Params for KNN Model : {optimized_knn_model.best_params_}\")\n",
    "print(f\" Best Params for SVM Model : {optimized_svc_model.best_params_}\")"
   ]
  },
  {
   "cell_type": "markdown",
   "metadata": {
    "id": "Y8O4ozQNrs5v"
   },
   "source": [
    "### Feature Importance / Coefficient for Top Performing Model(s)\n",
    "*   Decision Tree\n",
    "*   Logistic Regression\n",
    "\n",
    "\n"
   ]
  },
  {
   "cell_type": "code",
   "execution_count": null,
   "metadata": {
    "colab": {
     "base_uri": "https://localhost:8080/",
     "height": 331
    },
    "id": "vtJBtIo1qAs9",
    "outputId": "3b35d4de-f9c2-468e-bf42-24406ec004a8"
   },
   "outputs": [],
   "source": [
    "# extract feature importances #\n",
    "dt_feature_importances = optimized_dt_model.best_estimator_.feature_importances_\n",
    "dt_feature_names = X2_train.columns\n",
    "dt_feature_importance_df = pd.DataFrame({'Feature': dt_feature_names,'Importance': dt_feature_importances})\n",
    "dt_feature_importance_df[dt_feature_importance_df['Importance'] > 0].sort_values(by='Importance', ascending=False)"
   ]
  },
  {
   "cell_type": "code",
   "execution_count": null,
   "metadata": {
    "colab": {
     "base_uri": "https://localhost:8080/",
     "height": 519
    },
    "id": "cjD55BRKsV6O",
    "outputId": "5321c52d-cafc-44cc-a95f-9a1d13e0d10f"
   },
   "outputs": [],
   "source": [
    "# extract feature importances #\n",
    "regression_feature_importances = optimized_regression_model.best_estimator_.coef_[0]\n",
    "regression_feature_names = X2_train.columns\n",
    "regression_feature_importance_df = pd.DataFrame({'Feature': regression_feature_names,'coef': regression_feature_importances})\n",
    "regression_feature_importance_df[regression_feature_importance_df['coef'] > 0].sort_values(by='coef', ascending=False)"
   ]
  },
  {
   "cell_type": "markdown",
   "metadata": {
    "id": "WnEuXYwJMqhy"
   },
   "source": [
    "### ROC Curve for Top Performing Model(s)\n",
    "*   Decision Tree\n",
    "*   Logistic Regression"
   ]
  },
  {
   "cell_type": "code",
   "execution_count": null,
   "metadata": {
    "colab": {
     "base_uri": "https://localhost:8080/",
     "height": 472
    },
    "id": "Wrh8JiTAOKFo",
    "outputId": "f1f48255-b666-4f69-df0e-d21dde2ccbf7"
   },
   "outputs": [],
   "source": [
    "# decision tree #\n",
    "y_pred_prob = optimized_dt_model.predict_proba(X2_test)[:, 1]\n",
    "\n",
    "# Map 'no' and 'yes' to 0 and 1 for ROC curve calculation #\n",
    "y2_test_numeric = y2_test.map({'no': 0, 'yes': 1})\n",
    "\n",
    "# Compute the false positive rate, true positive rate, and thresholds #\n",
    "fpr, tpr, thresholds = roc_curve(y2_test_numeric, y_pred_prob)\n",
    "\n",
    "# Plot the ROC curve #\n",
    "plt.plot(fpr, tpr)\n",
    "plt.plot([0, 1], [0, 1], 'k--')  # Diagonal line representing random guessing\n",
    "plt.xlabel('False Positive Rate')\n",
    "plt.ylabel('True Positive Rate')\n",
    "plt.title('Decision Tree : Receiver Operating Characteristic (ROC) Curve')\n",
    "plt.show()"
   ]
  },
  {
   "cell_type": "code",
   "execution_count": null,
   "metadata": {
    "colab": {
     "base_uri": "https://localhost:8080/",
     "height": 472
    },
    "id": "-fM1bcsZMqJb",
    "outputId": "05f80257-aba7-4103-e5f1-8461e7c857d7"
   },
   "outputs": [],
   "source": [
    "# logistic regression #\n",
    "y_pred_prob = optimized_regression_model.predict_proba(X2_test)[:, 1]\n",
    "\n",
    "# Map 'no' and 'yes' to 0 and 1 for ROC curve calculation\n",
    "y2_test_numeric = y2_test.map({'no': 0, 'yes': 1})\n",
    "\n",
    "# Compute the false positive rate, true positive rate, and thresholds\n",
    "fpr, tpr, thresholds = roc_curve(y2_test_numeric, y_pred_prob)\n",
    "\n",
    "# Plot the ROC curve\n",
    "plt.plot(fpr, tpr)\n",
    "plt.plot([0, 1], [0, 1], 'k--')  # Diagonal line representing random guessing\n",
    "plt.xlabel('False Positive Rate')\n",
    "plt.ylabel('True Positive Rate')\n",
    "plt.title('Logistic Regression :  Receiver Operating Characteristic (ROC) Curve')\n",
    "plt.show()"
   ]
  },
  {
   "cell_type": "markdown",
   "metadata": {
    "id": "CX7c3iknR5qB"
   },
   "source": [
    "### Classification Report"
   ]
  },
  {
   "cell_type": "code",
   "execution_count": null,
   "metadata": {
    "colab": {
     "base_uri": "https://localhost:8080/",
     "height": 472
    },
    "id": "bCOtIv8-ZubJ",
    "outputId": "44af9538-be3b-4a4d-9fe9-02c9f55a9f5a"
   },
   "outputs": [],
   "source": [
    "# extract evaluation metrics values #\n",
    "metrics = ['accuracy','precision', 'recall', 'f1-score', 'ROC-AUC score']\n",
    "logistic_regression_values = [optimized_regression_model_accuracy, optimized_regression_model_precision, optimized_regression_model_recall, optimized_regression_model_f1, optimized_regression_model_roc_auc]\n",
    "knn_values = [optimized_knn_model_accuracy, optimized_knn_model_precision, optimized_knn_model_recall, optimized_knn_model_f1, optimized_knn_model_roc_auc]\n",
    "decision_tree_values = [optimized_dt_model_accuracy, optimized_dt_model_precision, optimized_dt_model_recall, optimized_dt_model_f1, optimized_dt_model_roc_auc]\n",
    "svc_values = [optimized_svc_model_accuracy, optimized_svc_model_precision, optimized_svc_model_recall, optimized_svc_model_f1, optimized_svc_model_roc_auc]\n",
    "\n",
    "# Set the x-axis positions #\n",
    "x = range(len(metrics))\n",
    "\n",
    "# grouped bar chart #\n",
    "width = 0.2\n",
    "fig, ax = plt.subplots()\n",
    "rects1 = ax.bar([i - width*1.5 for i in x], knn_values, width, label='KNN')\n",
    "rects2 = ax.bar([i - width/2 for i in x], logistic_regression_values, width, label='Logistic Regression')\n",
    "rects3 = ax.bar([i + width/2 for i in x], decision_tree_values, width, label='Decision Tree')\n",
    "rects4 = ax.bar([i + width*1.5 for i in x], svc_values, width, label='SVC')\n",
    "\n",
    "# labels and title #\n",
    "ax.set_xlabel('Metrics')\n",
    "ax.set_ylabel('Values')\n",
    "ax.set_title('Comparison of Classification Reports')\n",
    "ax.set_xticks(x)\n",
    "ax.set_xticklabels(metrics)\n",
    "ax.legend()\n",
    "\n",
    "# show the chart #\n",
    "plt.show()"
   ]
  },
  {
   "cell_type": "markdown",
   "metadata": {
    "id": "Y6mbEMK_SQAS"
   },
   "source": [
    "### Confusion matrix"
   ]
  },
  {
   "cell_type": "code",
   "execution_count": null,
   "metadata": {
    "id": "_jN3g17ZruuW"
   },
   "outputs": [],
   "source": [
    "# calculate confusion matrix #\n",
    "cm_lr = confusion_matrix(y2_test, optimized_regression_model.predict(X2_test))\n",
    "cm_knn = confusion_matrix(y2_test, optimized_knn_model.predict(X2_test))\n",
    "cm_dt = confusion_matrix(y2_test, optimized_dt_model.predict(X2_test))\n",
    "cm_svc = confusion_matrix(y2_test, optimized_svc_model.predict(X2_test))"
   ]
  },
  {
   "cell_type": "code",
   "execution_count": null,
   "metadata": {
    "colab": {
     "base_uri": "https://localhost:8080/",
     "height": 507
    },
    "id": "T-NmzdjWppBW",
    "outputId": "ac36c39c-e0e3-4476-9cc9-8977cf744dbe"
   },
   "outputs": [
    {
     "data": {
      "image/png": "[encoded data removed]",
      "text/plain": [
       "<Figure size 1000x500 with 8 Axes>"
      ]
     },
     "metadata": {},
     "output_type": "display_data"
    }
   ],
   "source": [
    "# plot the confusion matrix #\n",
    "fig, axes = plt.subplots(2, 2, figsize=(10, 5))\n",
    "sns.heatmap(cm_lr, annot=True, cmap='Blues', fmt='d', ax=axes[0,0])\n",
    "axes[0,0].set_xlabel('Predicted')\n",
    "axes[0,0].set_ylabel('Actual')\n",
    "axes[0,0].set_title('Confusion Matrix - Logistic Regression')\n",
    "\n",
    "sns.heatmap(cm_knn, annot=True, cmap='PuBu', fmt='d', ax=axes[0,1])\n",
    "axes[0,1].set_xlabel('Predicted')\n",
    "axes[0,1].set_ylabel('Actual')\n",
    "axes[0,1].set_title('Confusion Matrix - KNN')\n",
    "\n",
    "sns.heatmap(cm_dt, annot=True, cmap='BuGn', fmt='d', ax=axes[1,0])\n",
    "axes[1,0].set_xlabel('Predicted')\n",
    "axes[1,0].set_ylabel('Actual')\n",
    "axes[1,0].set_title('Confusion Matrix - Decision Tree')\n",
    "\n",
    "sns.heatmap(cm_svc, annot=True, cmap='GnBu', fmt='d', ax=axes[1,1])\n",
    "axes[1,1].set_xlabel('Predicted')\n",
    "axes[1,1].set_ylabel('Actual')\n",
    "axes[1,1].set_title('Confusion Matrix - SVC')\n",
    "\n",
    "# Adjust the spacing between the subplots\n",
    "plt.tight_layout()\n",
    "\n",
    "# show the plot#\n",
    "plt.show()\n"
   ]
  },
  {
   "cell_type": "markdown",
   "metadata": {
    "id": "tjhlPJ4MZ7dd"
   },
   "source": [
    "### Deployment\n",
    "\n",
    "*   Save the trained model to a file for future use.\n",
    "*   Load the saved model and use it to make predictions on new data."
   ]
  },
  {
   "cell_type": "markdown",
   "metadata": {
    "id": "ZeseCWTYc1d3"
   },
   "source": [
    "# Key Highlights\n",
    "\n",
    "*  Decision Tree model performs the best in terms of accuracy and training time (8 seconds).\n",
    "*  Decision Tree model has the best accuracy (0.92), recall, and F1-Score metrics among all four models.\n",
    "*  Logistic Regression model has the best precision and ROC-AUC Curve metrics among all four models.\n",
    "*  SVM model (SVC classifier) has the highest training time (1000+ seconds) and is computationally expensive.\n",
    "*  Decision Tree : Optimized parameter model has the 0.02 more accuracy compare to default parameter model.\n",
    "*  Bank Marketing dataset is impbalanced because distribution is not similar within dataset.\n",
    "*  The highest positive correlation between numerical independent variables is between \"emp.var.rate\" and \"euribor3m\" with a value of 0.97.\n",
    "*  The highest negative correlation between numerical independent variables is between \"pdays\" and \"previous\" with a value of -0.59.\n",
    "*  Decision Tree model predicted the highest True Positives, while SVM (SVC Classifier) predicted the highest True Negatives, followed by the Logistic Regression model on the Test Data.\n",
    "*  The \"Day_of_Week\" feature has a similar success rate among all categorical values, so it is not an important feature for the given model dataset.\n",
    "*  The \"nr.employed\" & \"euribor3m\" are higher importance features since they have higher influence towards model predictions.\n",
    "*  The \"month\", \"cons.price.idx\" and \"duration\" features have higher coefficient and they contribute higher towards predicting the target variable.\n",
    "*   Overall, the **Decision Tree** model is the best performing model among all four models followed by **Logistic Regression** model.\n",
    "\n",
    "\n",
    "# Next steps and Recommendations\n",
    "\n",
    "*  Evaluate and identify non-important categorical features in a group (with other feature variable) rather than single to determine whether there exists combination of categorical features which can be discarded.\n",
    "*  Continue to add samples from new marketing campaign and evaluate the different classifier models.  \n",
    "*  Imbalanced dataset: Since the bank marketing dataset is imbalanced, consider using techniques such as resampling, SMOTE, or cost-sensitive learning to address the class imbalance and improve model performance.\n",
    "*  Feature importance: Focus on the \"nr.employed\", \"euribor3m\", \"month\", \"cons.price.idx\", and \"duration\" features, as they have higher coefficients or importance towards predicting the target variable. Consider further analyzing these features and their relationships with the target variable to gain deeper insights.\n",
    "* Training time and computational expense: Given that the SVM model (SVC classifier) has the highest training time and is computationally expensive, consider optimizing the model or exploring alternative models that can provide similar performance with lower training time.\n",
    "*  Performance metrics: While the Decision Tree model performs the best in terms of accuracy, recall, and F1-Score, and the Logistic Regression model has the best precision and ROC-AUC Curve metrics, it is important to consider the specific requirements of the problem at hand. Evaluate the trade-offs between different metrics and select the model that aligns best with the desired outcome.\n",
    "*  Correlation analysis: Take note of the highest positive correlation between \"emp.var.rate\" and \"euribor3m\" and the highest negative correlation between \"pdays\" and \"previous\". These insights can help in understanding the relationships between variables and potentially identifying multicollinearity issues.  \n",
    "* Overall, continue to refine and optimize the Decision Tree model and consider the recommendations mentioned above to further enhance model performance and interpretability.  \n",
    "\n",
    "\n",
    "\n",
    "\n",
    "\n",
    "\n",
    "\n",
    "\n"
   ]
  }
 ],
 "metadata": {
  "colab": {
   "provenance": []
  },
  "kernelspec": {
   "display_name": "Python 3 (ipykernel)",
   "language": "python",
   "name": "python3"
  },
  "language_info": {
   "codemirror_mode": {
    "name": "ipython",
    "version": 3
   },
   "file_extension": ".py",
   "mimetype": "text/x-python",
   "name": "python",
   "nbconvert_exporter": "python",
   "pygments_lexer": "ipython3",
   "version": "3.11.7"
  }
 },
 "nbformat": 4,
 "nbformat_minor": 1
}
